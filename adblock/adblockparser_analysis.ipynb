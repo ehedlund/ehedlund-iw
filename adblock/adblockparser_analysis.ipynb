{
 "cells": [
  {
   "cell_type": "code",
   "execution_count": 1,
   "metadata": {},
   "outputs": [],
   "source": [
    "from adblockparser import AdblockRules\n",
    "import pandas as pd\n",
    "import tldextract\n",
    "import json"
   ]
  },
  {
   "cell_type": "code",
   "execution_count": 2,
   "metadata": {},
   "outputs": [],
   "source": [
    "# create adblockrules from easylist\n",
    "with open('input/easylist.txt') as f:\n",
    "    raw_rules = f.readlines()\n",
    "    \n",
    "rules = AdblockRules(raw_rules)"
   ]
  },
  {
   "cell_type": "code",
   "execution_count": 3,
   "metadata": {},
   "outputs": [
    {
     "name": "stdout",
     "output_type": "stream",
     "text": [
      "63581\n",
      "21682\n"
     ]
    }
   ],
   "source": [
    "# load resources\n",
    "resources_and_sources = pd.read_csv('output/third_party_resources.csv')\n",
    "print len(resources_and_sources)\n",
    "\n",
    "unique_resources = resources_and_sources['url'].unique().tolist()\n",
    "print len(unique_resources)"
   ]
  },
  {
   "cell_type": "code",
   "execution_count": 4,
   "metadata": {},
   "outputs": [],
   "source": [
    "# this is extremely slow\n",
    "resource_blocked = dict()\n",
    "\n",
    "for resource in unique_resources:\n",
    "    resource_blocked[resource] = rules.should_block(resource)"
   ]
  },
  {
   "cell_type": "code",
   "execution_count": 5,
   "metadata": {},
   "outputs": [
    {
     "name": "stdout",
     "output_type": "stream",
     "text": [
      "                                                resource  blocked\n",
      "4      http://img.secureserver.net/t/1/tl/event?cts=1...     True\n",
      "15     http://image6.pubmatic.com/AdServer/PugMaster?...     True\n",
      "50     https://securepubads.g.doubleclick.net/gampad/...     True\n",
      "81     https://cdn.ampproject.org/rtv/011811091519050...     True\n",
      "120    https://simage2.pubmatic.com/AdServer/Pug?vcod...     True\n",
      "153    https://simage2.pubmatic.com/AdServer/Pug?vcod...     True\n",
      "175    https://magnetic.t.domdex.com/sync/pubmatic?ne...     True\n",
      "194    https://googleads.g.doubleclick.net/pagead/ads...     True\n",
      "207    https://securepubads.g.doubleclick.net/gampad/...     True\n",
      "275    http://ib.adnxs.com/jpt?callback=pbjs.handleAn...     True\n",
      "325    http://gads.pubmatic.com/AdServer/AdCallAggreg...     True\n",
      "396    https://pagead2.googlesyndication.com/pcs/acti...     True\n",
      "487    http://pagead2.googlesyndication.com/pagead/ge...     True\n",
      "508    https://adserver-us.adtech.advertising.com/pub...     True\n",
      "695    https://googleads.g.doubleclick.net/pagead/htm...     True\n",
      "908    https://simage2.pubmatic.com/AdServer/Pug?vcod...     True\n",
      "966    http://pubmatic-cm.p.veruta.com/adserver/cooki...     True\n",
      "980    http://ib.adnxs.com/jpt?callback=pbjs.handleAn...     True\n",
      "986    https://simage2.pubmatic.com/AdServer/Pug?vcod...     True\n",
      "1018   https://googleads.g.doubleclick.net/pagead/ads...     True\n",
      "1057   https://image2.pubmatic.com/AdServer/Pug?vcode...     True\n",
      "1059   http://ib.adnxs.com/jpt?callback=pbjs.handleAn...     True\n",
      "1163   http://dirgyzwl2hnqq.cloudfront.net/20181101ry...     True\n",
      "1203   https://simage2.pubmatic.com/AdServer/Pug?vcod...     True\n",
      "1260   http://ib.adnxs.com/jpt?callback=pbjs.handleAn...     True\n",
      "1272   http://image2.pubmatic.com/AdServer/Pug?vcode=...     True\n",
      "1282   http://ib.adnxs.com/jpt?callback=pbjs.handleAn...     True\n",
      "1337   http://ads.pro-market.net/ads/scripts/site-110...     True\n",
      "1338   https://securepubads.g.doubleclick.net/pcs/vie...     True\n",
      "1349   http://img.secureserver.net/t/1/tl/event?cts=1...     True\n",
      "...                                                  ...      ...\n",
      "20126  https://pagead2.googlesyndication.com/pagead/g...     True\n",
      "20133  https://engine.multiview.com/ados?t=1544222858...     True\n",
      "20249  https://pagead2.googlesyndication.com/pagead/g...     True\n",
      "20252  http://ib.adnxs.com/jpt?callback=pbjs.handleAn...     True\n",
      "20349  http://img.secureserver.net/t/1/tl/event?cts=1...     True\n",
      "20369  https://hb.nexage.com/bidRequest?dcn=2c9d2b4f0...     True\n",
      "20561  http://ib.adnxs.com/jpt?callback=pbjs.handleAn...     True\n",
      "20562  https://securepubads.g.doubleclick.net/gampad/...     True\n",
      "20606  https://pagead2.googlesyndication.com/pagead/g...     True\n",
      "20640  http://gads.pubmatic.com/AdServer/AdCallAggreg...     True\n",
      "20698  http://image2.pubmatic.com/AdServer/Pug?vcode=...     True\n",
      "20705  http://ib.adnxs.com/jpt?callback=pbjs.handleAn...     True\n",
      "20741  http://ib.adnxs.com/jpt?callback=pbjs.handleAn...     True\n",
      "20810  http://a.tribalfusion.com/j.ad?flashVer=0&ver=...     True\n",
      "20843  http://sync.ipredictive.com/d/sync/cookie/gene...     True\n",
      "20894  https://ads.yahoo.com/cms/v1?nwid=10001105643&...     True\n",
      "20924  https://securepubads.g.doubleclick.net/gampad/...     True\n",
      "21022  http://ads.yahoo.com/cms/v1?nwid=10001105643&e...     True\n",
      "21035  http://image2.pubmatic.com/AdServer/Pug?vcode=...     True\n",
      "21115  http://image2.pubmatic.com/AdServer/Pug?vcode=...     True\n",
      "21134  http://ib.adnxs.com/jpt?callback=pbjs.handleAn...     True\n",
      "21247  http://um.simpli.fi/pm_match?http://image2.pub...     True\n",
      "21402  https://securepubads.g.doubleclick.net/gampad/...     True\n",
      "21403  http://ib.adnxs.com/jpt?callback=pbjs.handleAn...     True\n",
      "21450  https://securepubads.g.doubleclick.net/gampad/...     True\n",
      "21484  http://a.tribalfusion.com/displayAd.js?dver=0....     True\n",
      "21499  https://pagead2.googlesyndication.com/pcs/acti...     True\n",
      "21525  http://image2.pubmatic.com/AdServer/Pug?vcode=...     True\n",
      "21576  http://img.secureserver.net/t/1/tl/event?cts=1...     True\n",
      "21607  http://cdnx.tribalfusion.com/media/common//adC...     True\n",
      "\n",
      "[446 rows x 2 columns]\n"
     ]
    }
   ],
   "source": [
    "resource_df = pd.DataFrame.from_dict(resource_blocked, orient='index', columns=['blocked']).reset_index()\n",
    "resource_df = resource_df.rename(columns={'index':'resource'})\n",
    "ad_df = resource_df[resource_df['blocked']]\n",
    "print ad_df"
   ]
  },
  {
   "cell_type": "code",
   "execution_count": 6,
   "metadata": {},
   "outputs": [],
   "source": [
    "# write blocked resources to csv just in case\n",
    "ad_df['resource'].to_csv('output/blocked_resources.csv', index=False)"
   ]
  },
  {
   "cell_type": "code",
   "execution_count": 7,
   "metadata": {},
   "outputs": [],
   "source": [
    "# check same things as third_party_resource analysis"
   ]
  },
  {
   "cell_type": "code",
   "execution_count": 8,
   "metadata": {},
   "outputs": [],
   "source": [
    "# how many ad resources per site"
   ]
  },
  {
   "cell_type": "code",
   "execution_count": 9,
   "metadata": {},
   "outputs": [
    {
     "name": "stdout",
     "output_type": "stream",
     "text": [
      "63581\n",
      "1243\n"
     ]
    }
   ],
   "source": [
    "# restrict resource table to only those blocked as ads\n",
    "print len(resources_and_sources)\n",
    "ads_and_sources = resources_and_sources[resources_and_sources['url'].isin(ad_df['resource'])]\n",
    "print len(ads_and_sources)"
   ]
  },
  {
   "cell_type": "code",
   "execution_count": 10,
   "metadata": {},
   "outputs": [
    {
     "name": "stdout",
     "output_type": "stream",
     "text": [
      "                                 source  url\n",
      "48              pillowlab.wordpress.com  218\n",
      "53   princeton.academia.edu/AnnaShields  148\n",
      "54  princeton.academia.edu/MarinaRustow   99\n",
      "55      princeton.academia.edu/MattKarp   61\n",
      "4          blogs.princeton.edu/reelmudd   60\n",
      "57  princeton.academia.edu/VeraCandiani   59\n",
      "3           blogs.princeton.edu/italian   42\n",
      "28                      francinekay.com   32\n",
      "2               blogs.princeton.edu/eqn   24\n",
      "59                 princeton.edu/leslie   20\n",
      "56    princeton.academia.edu/RobCWegman   20\n",
      "45                    paw.princeton.edu   17\n",
      "30                goprincetontigers.com   17\n",
      "21    facilitiesinclusion.princeton.edu   16\n",
      "51        poets.org/poet.php/prmPID/248   16\n",
      "19                dailyprincetonian.com   16\n",
      "0             biodigester.princeton.edu   12\n",
      "66                princetongleeclub.com   12\n",
      "12                  chime.princeton.edu   12\n",
      "9     caribbeanliterature.princeton.edu   12\n",
      "7                         bobholman.com   12\n",
      "26                 fluids.princeton.edu   12\n",
      "16              cs.princeton.edu/~kylej   12\n",
      "15             cs.princeton.edu/~ehazan   12\n",
      "38                    movingforlife.org   10\n",
      "20                      deanalawson.com    9\n",
      "80                 spider.princeton.edu    8\n",
      "52               poloclub.princeton.edu    8\n",
      "64                 princeton.edu/~naomi    8\n",
      "49           plantbiology.princeton.edu    8\n",
      "..                                  ...  ...\n",
      "72            ralphbowen.com/index.html    4\n",
      "65        princetonbuffer.princeton.edu    4\n",
      "82         thealternative.princeton.edu    4\n",
      "67           princetonkindredspirit.com    4\n",
      "70                princetonwildcats.com    4\n",
      "71                pringle.princeton.edu    4\n",
      "42         nuclearfutures.princeton.edu    4\n",
      "58      princeton.edu/admissionfacebook    4\n",
      "39             muslimlife.princeton.edu    4\n",
      "23                    fai.princeton.edu    4\n",
      "24             fanfiction.princeton.edu    4\n",
      "25               figments.princeton.edu    4\n",
      "27             folklorico.princeton.edu    4\n",
      "31                    gss.princeton.edu    4\n",
      "34           libertarians.princeton.edu    4\n",
      "40    nats.org/christopher_arneson.html    4\n",
      "44                onstott.princeton.edu    4\n",
      "50                  pnkhr.princeton.edu    4\n",
      "83                   twod.princeton.edu    4\n",
      "17             cs.princeton.edu/~sseung    3\n",
      "13                   claudiarankine.com    3\n",
      "11        chikaokeke-agulu.blogspot.com    3\n",
      "37                    movementgroup.org    2\n",
      "36                  michaelcochrane.com    2\n",
      "62                  princeton.edu/~hcil    2\n",
      "46                         philklay.com    2\n",
      "47                   pietroortoleva.com    2\n",
      "76                         seunglab.org    2\n",
      "63                   princeton.edu/~hsr    2\n",
      "22      facilitiesinsider.princeton.edu    2\n",
      "\n",
      "[84 rows x 2 columns]\n"
     ]
    }
   ],
   "source": [
    "print ads_and_sources.groupby(by='source').count().reset_index().sort_values(by='url', ascending=False)"
   ]
  },
  {
   "cell_type": "code",
   "execution_count": 11,
   "metadata": {},
   "outputs": [
    {
     "name": "stdout",
     "output_type": "stream",
     "text": [
      "218\n",
      "127\n",
      "148\n",
      "114\n"
     ]
    }
   ],
   "source": [
    "# get resources for 2 sites with >100 ad resources\n",
    "\n",
    "pillow_lab = ads_and_sources[ads_and_sources['source'] == \"pillowlab.wordpress.com\"]['url']\n",
    "print len(pillow_lab)\n",
    "print len(pillow_lab.unique())\n",
    "pillow_lab.to_csv('output/pillow_lab.csv', index=False)\n",
    "\n",
    "anna_shields = ads_and_sources[ads_and_sources['source'] == \"princeton.academia.edu/AnnaShields\"]['url']\n",
    "print len(anna_shields)\n",
    "print len(anna_shields.unique())\n",
    "anna_shields.to_csv('output/anna_shields.csv', index=False)"
   ]
  },
  {
   "cell_type": "code",
   "execution_count": 12,
   "metadata": {},
   "outputs": [],
   "source": [
    "# how many ad domains per site"
   ]
  },
  {
   "cell_type": "code",
   "execution_count": 13,
   "metadata": {},
   "outputs": [],
   "source": [
    "def get_domain_for_org(url):\n",
    "    extracted = tldextract.extract(url)\n",
    "    return \"{}.{}\".format(extracted.domain, extracted.suffix)"
   ]
  },
  {
   "cell_type": "code",
   "execution_count": 14,
   "metadata": {},
   "outputs": [
    {
     "name": "stdout",
     "output_type": "stream",
     "text": [
      "source\n",
      "biodigester.princeton.edu                     2\n",
      "blogs.princeton.edu/caps                      2\n",
      "blogs.princeton.edu/eqn                       2\n",
      "blogs.princeton.edu/italian                   2\n",
      "blogs.princeton.edu/reelmudd                  2\n",
      "blueflowerarts.com/artist/alicia-ostriker     2\n",
      "blueflowerarts.com/artist/mark-doty           2\n",
      "bobholman.com                                 2\n",
      "butlercollege.princeton.edu                   2\n",
      "caribbeanliterature.princeton.edu             2\n",
      "chignell.net                                  2\n",
      "chikaokeke-agulu.blogspot.com                 1\n",
      "chime.princeton.edu                           2\n",
      "claudiarankine.com                            1\n",
      "cs.princeton.edu                              1\n",
      "cs.princeton.edu/~ehazan                      2\n",
      "cs.princeton.edu/~kylej                       2\n",
      "cs.princeton.edu/~sseung                      1\n",
      "csctf.princeton.edu                           2\n",
      "dailyprincetonian.com                         2\n",
      "deanalawson.com                               2\n",
      "facilitiesinclusion.princeton.edu             2\n",
      "facilitiesinsider.princeton.edu               1\n",
      "fai.princeton.edu                             2\n",
      "fanfiction.princeton.edu                      2\n",
      "figments.princeton.edu                        2\n",
      "fluids.princeton.edu                          2\n",
      "folklorico.princeton.edu                      2\n",
      "francinekay.com                               2\n",
      "goprincetontigers.blogspot.com                3\n",
      "                                             ..\n",
      "princeton.academia.edu/MarinaRustow          14\n",
      "princeton.academia.edu/MattKarp               7\n",
      "princeton.academia.edu/RobCWegman             3\n",
      "princeton.academia.edu/VeraCandiani           7\n",
      "princeton.edu/admissionfacebook               2\n",
      "princeton.edu/leslie                          2\n",
      "princeton.edu/~ekolemen                       2\n",
      "princeton.edu/~graphicarts                    2\n",
      "princeton.edu/~hcil                           1\n",
      "princeton.edu/~hsr                            1\n",
      "princeton.edu/~naomi                          2\n",
      "princetonbuffer.princeton.edu                 2\n",
      "princetongleeclub.com                         2\n",
      "princetonkindredspirit.com                    2\n",
      "princetonroaring20.com                        2\n",
      "princetontigressions.com                      2\n",
      "princetonwildcats.com                         2\n",
      "pringle.princeton.edu                         2\n",
      "ralphbowen.com/index.html                     2\n",
      "religiouslife.princeton.edu                   2\n",
      "scholar.princeton.edu/markus                  2\n",
      "seniors.princeton.edu                         2\n",
      "seunglab.org                                  1\n",
      "share.princeton.edu                           2\n",
      "skprinceton.com                               2\n",
      "soniccinema.princeton.edu                     2\n",
      "spider.princeton.edu                          2\n",
      "susanbrison.com                               3\n",
      "thealternative.princeton.edu                  2\n",
      "twod.princeton.edu                            2\n",
      "Name: domain, Length: 84, dtype: int64\n"
     ]
    }
   ],
   "source": [
    "domains = pd.DataFrame({'domain': ads_and_sources['url'].apply(get_domain_for_org)})\n",
    "ad_domains = pd.concat([ads_and_sources, domains], axis=1).drop(columns=['url'])\n",
    "print ad_domains.groupby(by='source').domain.nunique()"
   ]
  },
  {
   "cell_type": "code",
   "execution_count": 15,
   "metadata": {},
   "outputs": [],
   "source": [
    "# which organizations do these domains represent"
   ]
  },
  {
   "cell_type": "code",
   "execution_count": 16,
   "metadata": {},
   "outputs": [],
   "source": [
    "with open('webXray/domain_owners.json') as f:\n",
    "    domain_owners = json.load(f)\n",
    "    \n",
    "domain_to_org = dict()\n",
    "for do in domain_owners:\n",
    "    org = do['owner_name']\n",
    "    \n",
    "    for domain in do['domains']:\n",
    "        domain_to_org[domain] = org"
   ]
  },
  {
   "cell_type": "code",
   "execution_count": 17,
   "metadata": {},
   "outputs": [
    {
     "name": "stdout",
     "output_type": "stream",
     "text": [
      "source\n",
      "biodigester.princeton.edu                     2\n",
      "blogs.princeton.edu/caps                      2\n",
      "blogs.princeton.edu/eqn                       2\n",
      "blogs.princeton.edu/italian                   2\n",
      "blogs.princeton.edu/reelmudd                  2\n",
      "blueflowerarts.com/artist/alicia-ostriker     2\n",
      "blueflowerarts.com/artist/mark-doty           2\n",
      "bobholman.com                                 2\n",
      "butlercollege.princeton.edu                   2\n",
      "caribbeanliterature.princeton.edu             2\n",
      "chignell.net                                  2\n",
      "chikaokeke-agulu.blogspot.com                 1\n",
      "chime.princeton.edu                           2\n",
      "claudiarankine.com                            0\n",
      "cs.princeton.edu                              1\n",
      "cs.princeton.edu/~ehazan                      2\n",
      "cs.princeton.edu/~kylej                       2\n",
      "cs.princeton.edu/~sseung                      0\n",
      "csctf.princeton.edu                           2\n",
      "dailyprincetonian.com                         2\n",
      "deanalawson.com                               2\n",
      "facilitiesinclusion.princeton.edu             2\n",
      "facilitiesinsider.princeton.edu               1\n",
      "fai.princeton.edu                             2\n",
      "fanfiction.princeton.edu                      2\n",
      "figments.princeton.edu                        2\n",
      "fluids.princeton.edu                          2\n",
      "folklorico.princeton.edu                      2\n",
      "francinekay.com                               2\n",
      "goprincetontigers.blogspot.com                3\n",
      "                                             ..\n",
      "princeton.academia.edu/MarinaRustow          12\n",
      "princeton.academia.edu/MattKarp               6\n",
      "princeton.academia.edu/RobCWegman             3\n",
      "princeton.academia.edu/VeraCandiani           6\n",
      "princeton.edu/admissionfacebook               2\n",
      "princeton.edu/leslie                          2\n",
      "princeton.edu/~ekolemen                       2\n",
      "princeton.edu/~graphicarts                    2\n",
      "princeton.edu/~hcil                           1\n",
      "princeton.edu/~hsr                            1\n",
      "princeton.edu/~naomi                          2\n",
      "princetonbuffer.princeton.edu                 2\n",
      "princetongleeclub.com                         2\n",
      "princetonkindredspirit.com                    2\n",
      "princetonroaring20.com                        2\n",
      "princetontigressions.com                      2\n",
      "princetonwildcats.com                         2\n",
      "pringle.princeton.edu                         2\n",
      "ralphbowen.com/index.html                     2\n",
      "religiouslife.princeton.edu                   2\n",
      "scholar.princeton.edu/markus                  2\n",
      "seniors.princeton.edu                         2\n",
      "seunglab.org                                  0\n",
      "share.princeton.edu                           2\n",
      "skprinceton.com                               2\n",
      "soniccinema.princeton.edu                     2\n",
      "spider.princeton.edu                          2\n",
      "susanbrison.com                               2\n",
      "thealternative.princeton.edu                  2\n",
      "twod.princeton.edu                            2\n",
      "Name: org, Length: 84, dtype: int64\n"
     ]
    }
   ],
   "source": [
    "domain_orgs = pd.DataFrame({'org': ad_domains['domain'].map(domain_to_org)})\n",
    "ad_orgs = pd.concat([ad_domains, domain_orgs], axis=1).drop(columns=['domain'])\n",
    "print ad_orgs.groupby(by='source').org.nunique()"
   ]
  },
  {
   "cell_type": "code",
   "execution_count": 18,
   "metadata": {},
   "outputs": [],
   "source": [
    "# check frequency of each ad resource"
   ]
  },
  {
   "cell_type": "code",
   "execution_count": 19,
   "metadata": {},
   "outputs": [
    {
     "name": "stdout",
     "output_type": "stream",
     "text": [
      "                                                    source\n",
      "url                                                       \n",
      "https://www.youtube.com/ad_data_204                    255\n",
      "https://static.doubleclick.net/instream/ad_stat...     255\n",
      "https://pagead2.googlesyndication.com/pagead/js...      17\n",
      "https://pagead2.googlesyndication.com/pagead/js...      16\n",
      "https://pagead2.googlesyndication.com/pagead/sh...      16\n",
      "https://pagead2.googlesyndication.com/pub-confi...      15\n",
      "https://tpc.googlesyndication.com/pagead/js/r20...      13\n",
      "https://tpc.googlesyndication.com/pagead/js/r20...      13\n",
      "https://pagead2.googlesyndication.com/pagead/js...      13\n",
      "https://securepubads.g.doubleclick.net/gpt/puba...      13\n",
      "http://tpc.googlesyndication.com/sodar/6uQTKQJz...      11\n",
      "http://tpc.googlesyndication.com/sodar/V6zvOIoD.js      11\n",
      "http://pagead2.googlesyndication.com/bg/BvTIEte...      11\n",
      "http://ads.pubmatic.com/AdServer/js/showad.js#P...      11\n",
      "https://securepubads.g.doubleclick.net/gpt/puba...      10\n",
      "http://tpc.googlesyndication.com/safeframe/1-0-...      10\n",
      "http://pagead2.googlesyndication.com/pagead/osd.js       8\n",
      "http://cse.google.com/adsense/search/async-ads.js        6\n",
      "https://securepubads.g.doubleclick.net/gpt/puba...       5\n",
      "http://pagead2.googlesyndication.com/pagead/js/...       5\n",
      "https://pagead2.googlesyndication.com/pagead/os...       5\n",
      "http://image4.pubmatic.com/AdServer/SPug?partne...       4\n",
      "https://cdn.ampproject.org/rtv/011811091519050/...       4\n",
      "https://cdn.ampproject.org/rtv/011811091519050/...       4\n",
      "https://securepubads.g.doubleclick.net/gpt/puba...       4\n",
      "https://securepubads.g.doubleclick.net/gpt/puba...       3\n",
      "http://www.google.com/adsense/domains/caf.js             3\n",
      "https://tpc.googlesyndication.com/simgad/243413...       3\n",
      "http://pr-bh.ybp.yahoo.com/sync/openx/1a01806b-...       3\n",
      "http://a.tribalfusion.com/displayAd.js?dver=0.8...       3\n",
      "...                                                    ...\n",
      "http://img.secureserver.net/t/1/tl/event?cts=15...       1\n",
      "http://img.secureserver.net/t/1/tl/event?cts=15...       1\n",
      "http://img.secureserver.net/t/1/tl/event?cts=15...       1\n",
      "http://img.secureserver.net/t/1/tl/event?cts=15...       1\n",
      "http://img.secureserver.net/t/1/tl/event?cts=15...       1\n",
      "http://img.secureserver.net/t/1/tl/event?cts=15...       1\n",
      "http://gads.pubmatic.com/AdServer/AdCallAggrega...       1\n",
      "http://pagead2.googlesyndication.com/pagead/gen...       1\n",
      "https://adserver-us.adtech.advertising.com/puba...       1\n",
      "http://pagead2.googlesyndication.com/pagead/gen...       1\n",
      "https://adserver-us.adtech.advertising.com/puba...       1\n",
      "https://adserver-us.adtech.advertising.com/puba...       1\n",
      "https://adserver-us.adtech.advertising.com/puba...       1\n",
      "https://adserver-us.adtech.advertising.com/puba...       1\n",
      "https://ads.yahoo.com/pixel?id=2547130&t=2&pigg...       1\n",
      "https://ads.yahoo.com/cms/v1?nwid=10001105643&e...       1\n",
      "https://ade.googlesyndication.com/ddm/activity/...       1\n",
      "https://ad.mail.ru/cm.gif?p=85&id=94d61d83-b9c2...       1\n",
      "https://acuityplatform.com/Adserver/bswds?bsw_u...       1\n",
      "http://tpc.googlesyndication.com/safeframe/1-0-...       1\n",
      "http://rtb0.doubleverify.com/verify.js?jsCallba...       1\n",
      "http://gads.pubmatic.com/AdServer/AdCallAggrega...       1\n",
      "http://pagead2.googlesyndication.com/pagead/js/...       1\n",
      "http://gads.pubmatic.com/AdServer/AdCallAggrega...       1\n",
      "http://pagead2.googlesyndication.com/pagead/gen...       1\n",
      "http://pagead2.googlesyndication.com/pagead/gen...       1\n",
      "http://pagead2.googlesyndication.com/pagead/gen...       1\n",
      "http://pagead2.googlesyndication.com/pagead/gen...       1\n",
      "http://pagead2.googlesyndication.com/pagead/gen...       1\n",
      "https://googleads.g.doubleclick.net/pagead/ads?...       1\n",
      "\n",
      "[446 rows x 1 columns]\n"
     ]
    }
   ],
   "source": [
    "print ads_and_sources.groupby('url').count().sort_values(by='source', ascending=False)"
   ]
  },
  {
   "cell_type": "code",
   "execution_count": null,
   "metadata": {},
   "outputs": [],
   "source": []
  }
 ],
 "metadata": {
  "kernelspec": {
   "display_name": "Python 2",
   "language": "python",
   "name": "python2"
  },
  "language_info": {
   "codemirror_mode": {
    "name": "ipython",
    "version": 2
   },
   "file_extension": ".py",
   "mimetype": "text/x-python",
   "name": "python",
   "nbconvert_exporter": "python",
   "pygments_lexer": "ipython2",
   "version": "2.7.14"
  }
 },
 "nbformat": 4,
 "nbformat_minor": 2
}
