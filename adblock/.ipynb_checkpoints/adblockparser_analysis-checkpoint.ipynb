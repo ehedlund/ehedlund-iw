{
 "cells": [
  {
   "cell_type": "code",
   "execution_count": 61,
   "metadata": {},
   "outputs": [],
   "source": [
    "from adblockparser import AdblockRules\n",
    "import pandas as pd\n",
    "import tldextract\n",
    "import json"
   ]
  },
  {
   "cell_type": "code",
   "execution_count": 18,
   "metadata": {},
   "outputs": [],
   "source": [
    "# create adblockrules from easylist\n",
    "with open('input/easylist.txt') as f:\n",
    "    raw_rules = f.readlines()\n",
    "    \n",
    "rules = AdblockRules(raw_rules)"
   ]
  },
  {
   "cell_type": "code",
   "execution_count": 19,
   "metadata": {},
   "outputs": [
    {
     "name": "stdout",
     "output_type": "stream",
     "text": [
      "57521\n",
      "19657\n"
     ]
    }
   ],
   "source": [
    "# load resources\n",
    "resources_and_sources = pd.read_csv('output/third_party_resources.csv')\n",
    "print len(resources_and_sources)\n",
    "\n",
    "unique_resources = resources_and_sources['url'].unique().tolist()\n",
    "print len(unique_resources)"
   ]
  },
  {
   "cell_type": "code",
   "execution_count": 20,
   "metadata": {},
   "outputs": [],
   "source": [
    "# this is extremely slow\n",
    "resource_blocked = dict()\n",
    "\n",
    "for resource in unique_resources:\n",
    "    resource_blocked[resource] = rules.should_block(resource)"
   ]
  },
  {
   "cell_type": "code",
   "execution_count": 40,
   "metadata": {},
   "outputs": [
    {
     "name": "stdout",
     "output_type": "stream",
     "text": [
      "                                                resource  blocked\n",
      "3      http://img.secureserver.net/t/1/tl/event?cts=1...     True\n",
      "14     http://image6.pubmatic.com/AdServer/PugMaster?...     True\n",
      "46     https://securepubads.g.doubleclick.net/gampad/...     True\n",
      "74     https://cdn.ampproject.org/rtv/011811091519050...     True\n",
      "109    https://simage2.pubmatic.com/AdServer/Pug?vcod...     True\n",
      "138    https://simage2.pubmatic.com/AdServer/Pug?vcod...     True\n",
      "160    https://magnetic.t.domdex.com/sync/pubmatic?ne...     True\n",
      "178    https://googleads.g.doubleclick.net/pagead/ads...     True\n",
      "249    http://ib.adnxs.com/jpt?callback=pbjs.handleAn...     True\n",
      "294    http://gads.pubmatic.com/AdServer/AdCallAggreg...     True\n",
      "359    https://pagead2.googlesyndication.com/pcs/acti...     True\n",
      "443    http://pagead2.googlesyndication.com/pagead/ge...     True\n",
      "464    https://adserver-us.adtech.advertising.com/pub...     True\n",
      "598    https://pagead2.googlesyndication.com/pagead/g...     True\n",
      "635    https://googleads.g.doubleclick.net/pagead/htm...     True\n",
      "828    https://simage2.pubmatic.com/AdServer/Pug?vcod...     True\n",
      "881    http://pubmatic-cm.p.veruta.com/adserver/cooki...     True\n",
      "893    http://ib.adnxs.com/jpt?callback=pbjs.handleAn...     True\n",
      "898    https://simage2.pubmatic.com/AdServer/Pug?vcod...     True\n",
      "925    https://googleads.g.doubleclick.net/pagead/ads...     True\n",
      "962    https://image2.pubmatic.com/AdServer/Pug?vcode...     True\n",
      "964    http://ib.adnxs.com/jpt?callback=pbjs.handleAn...     True\n",
      "1058   http://dirgyzwl2hnqq.cloudfront.net/20181101ry...     True\n",
      "1095   https://simage2.pubmatic.com/AdServer/Pug?vcod...     True\n",
      "1146   http://ib.adnxs.com/jpt?callback=pbjs.handleAn...     True\n",
      "1158   http://image2.pubmatic.com/AdServer/Pug?vcode=...     True\n",
      "1166   http://ib.adnxs.com/jpt?callback=pbjs.handleAn...     True\n",
      "1214   http://ads.pro-market.net/ads/scripts/site-110...     True\n",
      "1215   https://securepubads.g.doubleclick.net/pcs/vie...     True\n",
      "1224   http://img.secureserver.net/t/1/tl/event?cts=1...     True\n",
      "...                                                  ...      ...\n",
      "18196  http://ib.adnxs.com/jpt?callback=pbjs.handleAn...     True\n",
      "18247  https://pagead2.googlesyndication.com/pagead/g...     True\n",
      "18254  https://engine.multiview.com/ados?t=1544222858...     True\n",
      "18359  https://pagead2.googlesyndication.com/pagead/g...     True\n",
      "18362  http://ib.adnxs.com/jpt?callback=pbjs.handleAn...     True\n",
      "18449  http://img.secureserver.net/t/1/tl/event?cts=1...     True\n",
      "18468  https://hb.nexage.com/bidRequest?dcn=2c9d2b4f0...     True\n",
      "18639  http://ib.adnxs.com/jpt?callback=pbjs.handleAn...     True\n",
      "18640  https://securepubads.g.doubleclick.net/gampad/...     True\n",
      "18680  https://pagead2.googlesyndication.com/pagead/g...     True\n",
      "18709  http://gads.pubmatic.com/AdServer/AdCallAggreg...     True\n",
      "18763  http://image2.pubmatic.com/AdServer/Pug?vcode=...     True\n",
      "18770  http://ib.adnxs.com/jpt?callback=pbjs.handleAn...     True\n",
      "18804  http://ib.adnxs.com/jpt?callback=pbjs.handleAn...     True\n",
      "18869  http://a.tribalfusion.com/j.ad?flashVer=0&ver=...     True\n",
      "18899  http://sync.ipredictive.com/d/sync/cookie/gene...     True\n",
      "18945  https://ads.yahoo.com/cms/v1?nwid=10001105643&...     True\n",
      "18970  https://securepubads.g.doubleclick.net/gampad/...     True\n",
      "19063  http://ads.yahoo.com/cms/v1?nwid=10001105643&e...     True\n",
      "19075  http://image2.pubmatic.com/AdServer/Pug?vcode=...     True\n",
      "19086  http://img.secureserver.net/t/1/tl/event?cts=1...     True\n",
      "19143  http://image2.pubmatic.com/AdServer/Pug?vcode=...     True\n",
      "19161  http://ib.adnxs.com/jpt?callback=pbjs.handleAn...     True\n",
      "19262  http://um.simpli.fi/pm_match?http://image2.pub...     True\n",
      "19403  https://securepubads.g.doubleclick.net/gampad/...     True\n",
      "19404  http://ib.adnxs.com/jpt?callback=pbjs.handleAn...     True\n",
      "19450  https://securepubads.g.doubleclick.net/gampad/...     True\n",
      "19494  https://pagead2.googlesyndication.com/pcs/acti...     True\n",
      "19517  http://image2.pubmatic.com/AdServer/Pug?vcode=...     True\n",
      "19565  http://img.secureserver.net/t/1/tl/event?cts=1...     True\n",
      "\n",
      "[435 rows x 2 columns]\n"
     ]
    }
   ],
   "source": [
    "resource_df = pd.DataFrame.from_dict(resource_blocked, orient='index', columns=['blocked']).reset_index()\n",
    "resource_df = resource_df.rename(columns={'index':'resource'})\n",
    "ad_df = resource_df[resource_df['blocked']]\n",
    "print ad_df"
   ]
  },
  {
   "cell_type": "code",
   "execution_count": 41,
   "metadata": {},
   "outputs": [],
   "source": [
    "# write blocked resources to csv just in case\n",
    "ad_df['resource'].to_csv('output/blocked_resources.csv', index=False)"
   ]
  },
  {
   "cell_type": "code",
   "execution_count": 65,
   "metadata": {},
   "outputs": [],
   "source": [
    "# check same things as third_party_resource analysis"
   ]
  },
  {
   "cell_type": "code",
   "execution_count": 66,
   "metadata": {},
   "outputs": [],
   "source": [
    "# how many ad resources per site"
   ]
  },
  {
   "cell_type": "code",
   "execution_count": 67,
   "metadata": {},
   "outputs": [
    {
     "name": "stdout",
     "output_type": "stream",
     "text": [
      "57521\n",
      "1201\n"
     ]
    }
   ],
   "source": [
    "# restrict resource table to only those blocked as ads\n",
    "print len(resources_and_sources)\n",
    "ads_and_sources = resources_and_sources[resources_and_sources['url'].isin(ad_df['resource'])]\n",
    "print len(ads_and_sources)"
   ]
  },
  {
   "cell_type": "code",
   "execution_count": 68,
   "metadata": {},
   "outputs": [
    {
     "name": "stdout",
     "output_type": "stream",
     "text": [
      "                                 source  url\n",
      "46              pillowlab.wordpress.com  218\n",
      "50   princeton.academia.edu/AnnaShields  148\n",
      "51  princeton.academia.edu/MarinaRustow   99\n",
      "52      princeton.academia.edu/MattKarp   61\n",
      "3          blogs.princeton.edu/reelmudd   60\n",
      "54  princeton.academia.edu/VeraCandiani   59\n",
      "2           blogs.princeton.edu/italian   42\n",
      "26                      francinekay.com   32\n",
      "56                 princeton.edu/leslie   20\n",
      "53    princeton.academia.edu/RobCWegman   20\n",
      "43                    paw.princeton.edu   17\n",
      "28                goprincetontigers.com   17\n",
      "19    facilitiesinclusion.princeton.edu   16\n",
      "17                dailyprincetonian.com   16\n",
      "62                princetongleeclub.com   12\n",
      "24                 fluids.princeton.edu   12\n",
      "0             biodigester.princeton.edu   12\n",
      "15              cs.princeton.edu/~kylej   12\n",
      "14             cs.princeton.edu/~ehazan   12\n",
      "11                  chime.princeton.edu   12\n",
      "8     caribbeanliterature.princeton.edu   12\n",
      "6                         bobholman.com   12\n",
      "36                    movingforlife.org   10\n",
      "18                      deanalawson.com    9\n",
      "47           plantbiology.princeton.edu    8\n",
      "31                      keithwailoo.com    8\n",
      "49               poloclub.princeton.edu    8\n",
      "60                 princeton.edu/~naomi    8\n",
      "76                 spider.princeton.edu    8\n",
      "75            soniccinema.princeton.edu    8\n",
      "..                                  ...  ...\n",
      "65             princetontigressions.com    4\n",
      "66                princetonwildcats.com    4\n",
      "67                pringle.princeton.edu    4\n",
      "73                  share.princeton.edu    4\n",
      "68            ralphbowen.com/index.html    4\n",
      "69          religiouslife.princeton.edu    4\n",
      "70         scholar.princeton.edu/markus    4\n",
      "71                seniors.princeton.edu    4\n",
      "40         nuclearfutures.princeton.edu    4\n",
      "79                   twod.princeton.edu    4\n",
      "21                    fai.princeton.edu    4\n",
      "55      princeton.edu/admissionfacebook    4\n",
      "48                  pnkhr.princeton.edu    4\n",
      "42                onstott.princeton.edu    4\n",
      "38    nats.org/christopher_arneson.html    4\n",
      "37             muslimlife.princeton.edu    4\n",
      "57              princeton.edu/~ekolemen    4\n",
      "32           libertarians.princeton.edu    4\n",
      "29                    gss.princeton.edu    4\n",
      "25             folklorico.princeton.edu    4\n",
      "23               figments.princeton.edu    4\n",
      "22             fanfiction.princeton.edu    4\n",
      "10        chikaokeke-agulu.blogspot.com    3\n",
      "12                   claudiarankine.com    3\n",
      "20      facilitiesinsider.princeton.edu    2\n",
      "59                  princeton.edu/~hcil    2\n",
      "35                    movementgroup.org    2\n",
      "44                         philklay.com    2\n",
      "45                   pietroortoleva.com    2\n",
      "34                  michaelcochrane.com    2\n",
      "\n",
      "[80 rows x 2 columns]\n"
     ]
    }
   ],
   "source": [
    "print ads_and_sources.groupby(by='source').count().reset_index().sort_values(by='url', ascending=False)"
   ]
  },
  {
   "cell_type": "code",
   "execution_count": 76,
   "metadata": {},
   "outputs": [
    {
     "name": "stdout",
     "output_type": "stream",
     "text": [
      "218\n",
      "127\n",
      "148\n",
      "114\n"
     ]
    }
   ],
   "source": [
    "# get resources for 2 sites with >100 ad resources\n",
    "\n",
    "pillow_lab = ads_and_sources[ads_and_sources['source'] == \"pillowlab.wordpress.com\"]['url']\n",
    "print len(pillow_lab)\n",
    "print len(pillow_lab.unique())\n",
    "pillow_lab.to_csv('output/pillow_lab.csv', index=False)\n",
    "\n",
    "anna_shields = ads_and_sources[ads_and_sources['source'] == \"princeton.academia.edu/AnnaShields\"]['url']\n",
    "print len(anna_shields)\n",
    "print len(anna_shields.unique())\n",
    "anna_shields.to_csv('output/anna_shields.csv', index=False)"
   ]
  },
  {
   "cell_type": "code",
   "execution_count": 77,
   "metadata": {},
   "outputs": [],
   "source": [
    "# how many ad domains per site"
   ]
  },
  {
   "cell_type": "code",
   "execution_count": 78,
   "metadata": {},
   "outputs": [],
   "source": [
    "def get_domain_for_org(url):\n",
    "    extracted = tldextract.extract(url)\n",
    "    return \"{}.{}\".format(extracted.domain, extracted.suffix)"
   ]
  },
  {
   "cell_type": "code",
   "execution_count": 79,
   "metadata": {},
   "outputs": [
    {
     "name": "stdout",
     "output_type": "stream",
     "text": [
      "source\n",
      "biodigester.princeton.edu                     2\n",
      "blogs.princeton.edu/caps                      2\n",
      "blogs.princeton.edu/italian                   2\n",
      "blogs.princeton.edu/reelmudd                  2\n",
      "blueflowerarts.com/artist/alicia-ostriker     2\n",
      "blueflowerarts.com/artist/mark-doty           2\n",
      "bobholman.com                                 2\n",
      "butlercollege.princeton.edu                   2\n",
      "caribbeanliterature.princeton.edu             2\n",
      "chignell.net                                  2\n",
      "chikaokeke-agulu.blogspot.com                 1\n",
      "chime.princeton.edu                           2\n",
      "claudiarankine.com                            1\n",
      "cs.princeton.edu                              1\n",
      "cs.princeton.edu/~ehazan                      2\n",
      "cs.princeton.edu/~kylej                       2\n",
      "csctf.princeton.edu                           2\n",
      "dailyprincetonian.com                         2\n",
      "deanalawson.com                               2\n",
      "facilitiesinclusion.princeton.edu             2\n",
      "facilitiesinsider.princeton.edu               1\n",
      "fai.princeton.edu                             2\n",
      "fanfiction.princeton.edu                      2\n",
      "figments.princeton.edu                        2\n",
      "fluids.princeton.edu                          2\n",
      "folklorico.princeton.edu                      2\n",
      "francinekay.com                               2\n",
      "goprincetontigers.blogspot.com                3\n",
      "goprincetontigers.com                         3\n",
      "gss.princeton.edu                             2\n",
      "                                             ..\n",
      "princeton.academia.edu/AnnaShields           19\n",
      "princeton.academia.edu/MarinaRustow          14\n",
      "princeton.academia.edu/MattKarp               7\n",
      "princeton.academia.edu/RobCWegman             3\n",
      "princeton.academia.edu/VeraCandiani           7\n",
      "princeton.edu/admissionfacebook               2\n",
      "princeton.edu/leslie                          2\n",
      "princeton.edu/~ekolemen                       2\n",
      "princeton.edu/~graphicarts                    2\n",
      "princeton.edu/~hcil                           1\n",
      "princeton.edu/~naomi                          2\n",
      "princetonbuffer.princeton.edu                 2\n",
      "princetongleeclub.com                         2\n",
      "princetonkindredspirit.com                    2\n",
      "princetonroaring20.com                        2\n",
      "princetontigressions.com                      2\n",
      "princetonwildcats.com                         2\n",
      "pringle.princeton.edu                         2\n",
      "ralphbowen.com/index.html                     2\n",
      "religiouslife.princeton.edu                   2\n",
      "scholar.princeton.edu/markus                  2\n",
      "seniors.princeton.edu                         2\n",
      "seunglab.org                                  1\n",
      "share.princeton.edu                           2\n",
      "skprinceton.com                               2\n",
      "soniccinema.princeton.edu                     2\n",
      "spider.princeton.edu                          2\n",
      "susanbrison.com                               3\n",
      "thealternative.princeton.edu                  2\n",
      "twod.princeton.edu                            2\n",
      "Name: domain, Length: 80, dtype: int64\n"
     ]
    }
   ],
   "source": [
    "domains = pd.DataFrame({'domain': ads_and_sources['url'].apply(get_domain_for_org)})\n",
    "ad_domains = pd.concat([ads_and_sources, domains], axis=1).drop(columns=['url'])\n",
    "print ad_domains.groupby(by='source').domain.nunique()"
   ]
  },
  {
   "cell_type": "code",
   "execution_count": 80,
   "metadata": {},
   "outputs": [],
   "source": [
    "# which organizations do these domains represent"
   ]
  },
  {
   "cell_type": "code",
   "execution_count": 81,
   "metadata": {},
   "outputs": [],
   "source": [
    "with open('webXray/domain_owners.json') as f:\n",
    "    domain_owners = json.load(f)\n",
    "    \n",
    "domain_to_org = dict()\n",
    "for do in domain_owners:\n",
    "    org = do['owner_name']\n",
    "    \n",
    "    for domain in do['domains']:\n",
    "        domain_to_org[domain] = org"
   ]
  },
  {
   "cell_type": "code",
   "execution_count": 82,
   "metadata": {},
   "outputs": [
    {
     "name": "stdout",
     "output_type": "stream",
     "text": [
      "source\n",
      "biodigester.princeton.edu                     2\n",
      "blogs.princeton.edu/caps                      2\n",
      "blogs.princeton.edu/italian                   2\n",
      "blogs.princeton.edu/reelmudd                  2\n",
      "blueflowerarts.com/artist/alicia-ostriker     2\n",
      "blueflowerarts.com/artist/mark-doty           2\n",
      "bobholman.com                                 2\n",
      "butlercollege.princeton.edu                   2\n",
      "caribbeanliterature.princeton.edu             2\n",
      "chignell.net                                  2\n",
      "chikaokeke-agulu.blogspot.com                 1\n",
      "chime.princeton.edu                           2\n",
      "claudiarankine.com                            0\n",
      "cs.princeton.edu                              1\n",
      "cs.princeton.edu/~ehazan                      2\n",
      "cs.princeton.edu/~kylej                       2\n",
      "csctf.princeton.edu                           2\n",
      "dailyprincetonian.com                         2\n",
      "deanalawson.com                               2\n",
      "facilitiesinclusion.princeton.edu             2\n",
      "facilitiesinsider.princeton.edu               1\n",
      "fai.princeton.edu                             2\n",
      "fanfiction.princeton.edu                      2\n",
      "figments.princeton.edu                        2\n",
      "fluids.princeton.edu                          2\n",
      "folklorico.princeton.edu                      2\n",
      "francinekay.com                               2\n",
      "goprincetontigers.blogspot.com                3\n",
      "goprincetontigers.com                         2\n",
      "gss.princeton.edu                             2\n",
      "                                             ..\n",
      "princeton.academia.edu/AnnaShields           14\n",
      "princeton.academia.edu/MarinaRustow          12\n",
      "princeton.academia.edu/MattKarp               6\n",
      "princeton.academia.edu/RobCWegman             3\n",
      "princeton.academia.edu/VeraCandiani           6\n",
      "princeton.edu/admissionfacebook               2\n",
      "princeton.edu/leslie                          2\n",
      "princeton.edu/~ekolemen                       2\n",
      "princeton.edu/~graphicarts                    2\n",
      "princeton.edu/~hcil                           1\n",
      "princeton.edu/~naomi                          2\n",
      "princetonbuffer.princeton.edu                 2\n",
      "princetongleeclub.com                         2\n",
      "princetonkindredspirit.com                    2\n",
      "princetonroaring20.com                        2\n",
      "princetontigressions.com                      2\n",
      "princetonwildcats.com                         2\n",
      "pringle.princeton.edu                         2\n",
      "ralphbowen.com/index.html                     2\n",
      "religiouslife.princeton.edu                   2\n",
      "scholar.princeton.edu/markus                  2\n",
      "seniors.princeton.edu                         2\n",
      "seunglab.org                                  0\n",
      "share.princeton.edu                           2\n",
      "skprinceton.com                               2\n",
      "soniccinema.princeton.edu                     2\n",
      "spider.princeton.edu                          2\n",
      "susanbrison.com                               2\n",
      "thealternative.princeton.edu                  2\n",
      "twod.princeton.edu                            2\n",
      "Name: org, Length: 80, dtype: int64\n"
     ]
    }
   ],
   "source": [
    "domain_orgs = pd.DataFrame({'org': ad_domains['domain'].map(domain_to_org)})\n",
    "ad_orgs = pd.concat([ad_domains, domain_orgs], axis=1).drop(columns=['domain'])\n",
    "print ad_orgs.groupby(by='source').org.nunique()"
   ]
  },
  {
   "cell_type": "code",
   "execution_count": null,
   "metadata": {},
   "outputs": [],
   "source": [
    "# check frequency of each ad resource"
   ]
  },
  {
   "cell_type": "code",
   "execution_count": 86,
   "metadata": {},
   "outputs": [
    {
     "name": "stdout",
     "output_type": "stream",
     "text": [
      "                                                    source\n",
      "url                                                       \n",
      "https://www.youtube.com/ad_data_204                    243\n",
      "https://static.doubleclick.net/instream/ad_stat...     243\n",
      "https://pagead2.googlesyndication.com/pagead/js...      17\n",
      "https://pagead2.googlesyndication.com/pagead/js...      16\n",
      "https://pagead2.googlesyndication.com/pagead/sh...      16\n",
      "https://pagead2.googlesyndication.com/pub-confi...      15\n",
      "https://tpc.googlesyndication.com/pagead/js/r20...      13\n",
      "https://tpc.googlesyndication.com/pagead/js/r20...      13\n",
      "https://pagead2.googlesyndication.com/pagead/js...      13\n",
      "https://securepubads.g.doubleclick.net/gpt/puba...      12\n",
      "http://tpc.googlesyndication.com/sodar/6uQTKQJz...      11\n",
      "http://tpc.googlesyndication.com/sodar/V6zvOIoD.js      11\n",
      "http://pagead2.googlesyndication.com/bg/BvTIEte...      11\n",
      "http://ads.pubmatic.com/AdServer/js/showad.js#P...      11\n",
      "http://tpc.googlesyndication.com/safeframe/1-0-...      10\n",
      "https://securepubads.g.doubleclick.net/gpt/puba...       9\n",
      "http://pagead2.googlesyndication.com/pagead/osd.js       8\n",
      "http://cse.google.com/adsense/search/async-ads.js        6\n",
      "http://pagead2.googlesyndication.com/pagead/js/...       5\n",
      "http://image4.pubmatic.com/AdServer/SPug?partne...       4\n",
      "https://securepubads.g.doubleclick.net/gpt/puba...       4\n",
      "https://cdn.ampproject.org/rtv/011811091519050/...       4\n",
      "https://cdn.ampproject.org/rtv/011811091519050/...       4\n",
      "https://securepubads.g.doubleclick.net/gpt/puba...       3\n",
      "http://www.google.com/adsense/domains/caf.js             3\n",
      "https://securepubads.g.doubleclick.net/gpt/puba...       3\n",
      "https://tpc.googlesyndication.com/simgad/243413...       3\n",
      "http://pr-bh.ybp.yahoo.com/sync/openx/1a01806b-...       3\n",
      "https://pagead2.googlesyndication.com/pagead/os...       3\n",
      "http://a.tribalfusion.com/displayAd.js?dver=0.8...       3\n",
      "...                                                    ...\n",
      "http://img.secureserver.net/t/1/tl/event?cts=15...       1\n",
      "http://img.secureserver.net/t/1/tl/event?cts=15...       1\n",
      "http://img.secureserver.net/t/1/tl/event?cts=15...       1\n",
      "http://img.secureserver.net/t/1/tl/event?cts=15...       1\n",
      "http://img.secureserver.net/t/1/tl/event?cts=15...       1\n",
      "http://img.secureserver.net/t/1/tl/event?cts=15...       1\n",
      "http://optimized-by.rubiconproject.com/a/16906/...       1\n",
      "http://pagead2.googlesyndication.com/pagead/gen...       1\n",
      "https://adserver-us.adtech.advertising.com/puba...       1\n",
      "http://pagead2.googlesyndication.com/pagead/gen...       1\n",
      "https://adserver-us.adtech.advertising.com/puba...       1\n",
      "https://adserver-us.adtech.advertising.com/puba...       1\n",
      "https://adserver-us.adtech.advertising.com/puba...       1\n",
      "https://ads.yahoo.com/pixel?id=2547130&t=2&pigg...       1\n",
      "https://ads.yahoo.com/cms/v1?nwid=10001105643&e...       1\n",
      "https://ade.googlesyndication.com/ddm/activity/...       1\n",
      "https://ad.mail.ru/cm.gif?p=85&id=94d61d83-b9c2...       1\n",
      "https://acuityplatform.com/Adserver/bswds?bsw_u...       1\n",
      "http://tpc.googlesyndication.com/safeframe/1-0-...       1\n",
      "http://rtb0.doubleverify.com/verify.js?jsCallba...       1\n",
      "http://gads.pubmatic.com/AdServer/AdCallAggrega...       1\n",
      "http://pagead2.googlesyndication.com/pagead/js/...       1\n",
      "http://gads.pubmatic.com/AdServer/AdCallAggrega...       1\n",
      "http://pagead2.googlesyndication.com/pagead/gen...       1\n",
      "http://pagead2.googlesyndication.com/pagead/gen...       1\n",
      "http://pagead2.googlesyndication.com/pagead/gen...       1\n",
      "http://pagead2.googlesyndication.com/pagead/gen...       1\n",
      "http://pagead2.googlesyndication.com/pagead/gen...       1\n",
      "http://pagead2.googlesyndication.com/pagead/gen...       1\n",
      "https://engine.multiview.com/ados?t=15442228601...       1\n",
      "\n",
      "[435 rows x 1 columns]\n"
     ]
    }
   ],
   "source": [
    "print ads_and_sources.groupby('url').count().sort_values(by='source', ascending=False)"
   ]
  },
  {
   "cell_type": "code",
   "execution_count": null,
   "metadata": {},
   "outputs": [],
   "source": []
  }
 ],
 "metadata": {
  "kernelspec": {
   "display_name": "Python 2",
   "language": "python",
   "name": "python2"
  },
  "language_info": {
   "codemirror_mode": {
    "name": "ipython",
    "version": 2
   },
   "file_extension": ".py",
   "mimetype": "text/x-python",
   "name": "python",
   "nbconvert_exporter": "python",
   "pygments_lexer": "ipython2",
   "version": "2.7.15rc1"
  }
 },
 "nbformat": 4,
 "nbformat_minor": 2
}
