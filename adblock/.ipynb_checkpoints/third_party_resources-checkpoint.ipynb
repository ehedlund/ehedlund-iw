{
 "cells": [
  {
   "cell_type": "code",
   "execution_count": 1,
   "metadata": {},
   "outputs": [
    {
     "ename": "ImportError",
     "evalue": "No module named tldextract",
     "output_type": "error",
     "traceback": [
      "\u001b[0;31m---------------------------------------------------------------------------\u001b[0m",
      "\u001b[0;31mImportError\u001b[0m                               Traceback (most recent call last)",
      "\u001b[0;32m<ipython-input-1-5eb64f0ff62d>\u001b[0m in \u001b[0;36m<module>\u001b[0;34m()\u001b[0m\n\u001b[1;32m      3\u001b[0m \u001b[0;32mimport\u001b[0m \u001b[0mcsv\u001b[0m\u001b[0;34m\u001b[0m\u001b[0m\n\u001b[1;32m      4\u001b[0m \u001b[0;32mimport\u001b[0m \u001b[0mjson\u001b[0m\u001b[0;34m\u001b[0m\u001b[0m\n\u001b[0;32m----> 5\u001b[0;31m \u001b[0;32mimport\u001b[0m \u001b[0mtldextract\u001b[0m\u001b[0;34m\u001b[0m\u001b[0m\n\u001b[0m",
      "\u001b[0;31mImportError\u001b[0m: No module named tldextract"
     ]
    }
   ],
   "source": [
    "from urlparse import urlparse\n",
    "import pandas as pd\n",
    "import csv\n",
    "import json\n",
    "import tldextract"
   ]
  },
  {
   "cell_type": "code",
   "execution_count": null,
   "metadata": {},
   "outputs": [],
   "source": [
    "def get_domain(url):\n",
    "    if (pd.isnull(url)):\n",
    "        return \"\"\n",
    "    else:\n",
    "        return urlparse(url.replace(\"www.\",\"\")).hostname"
   ]
  },
  {
   "cell_type": "code",
   "execution_count": null,
   "metadata": {},
   "outputs": [],
   "source": [
    "def process_url(url):\n",
    "    if (pd.isnull(url)):\n",
    "        return \"\"\n",
    "    else:\n",
    "        return url.replace(\"https://\", \"\").replace(\"http://\", \"\").replace(\"www.\",\"\").rstrip('/')"
   ]
  },
  {
   "cell_type": "code",
   "execution_count": null,
   "metadata": {},
   "outputs": [],
   "source": [
    "# import site list\n",
    "site_csv = pd.read_csv('../final_sites.csv', names=['site'], header=None)\n",
    "sites = site_csv['site'].apply(process_url).tolist()\n",
    "site_domains = site_csv['site'].apply(get_domain).tolist()"
   ]
  },
  {
   "cell_type": "code",
   "execution_count": null,
   "metadata": {},
   "outputs": [],
   "source": [
    "# import resource table\n",
    "resources = pd.read_csv('input/3_col_resources.csv', names=['url', 'top_level_url', 'loading_origin'], header=None)\n",
    "print len(resources)\n",
    "\n",
    "# limit to resources whose site we can reasonably identify\n",
    "resources['tlu_hn'] = resources['top_level_url'].apply(process_url)\n",
    "resources['lo_hn'] = resources['loading_origin'].apply(process_url)\n",
    "ident_resources = resources[(resources['tlu_hn'].isin(sites) | resources['lo_hn'].isin(sites))\n",
    "]\n",
    "\n",
    "# then attribute each resource to that site\n",
    "# use loading origin \n",
    "source = ident_resources['lo_hn'].where(ident_resources['lo_hn'].isin(sites), ident_resources['tlu_hn'])\n",
    "source = pd.DataFrame({'source': source})\n",
    "ident_resources = pd.concat([ident_resources, source], axis=1)\n",
    "ident_resources = ident_resources.drop(columns=['top_level_url', 'loading_origin', 'tlu_hn', 'lo_hn'])\n",
    "print len(ident_resources)\n",
    "\n",
    "# limit to third-party resources, or resources not originating from the source site\n",
    "third_party_resources = ident_resources[~ident_resources['url'].apply(get_domain).isin(site_domains)]\n",
    "print len(third_party_resources)"
   ]
  },
  {
   "cell_type": "code",
   "execution_count": null,
   "metadata": {},
   "outputs": [],
   "source": [
    "# write to csv for ad analysis\n",
    "third_party_resources.to_csv('output/third_party_resources.csv', index=False)"
   ]
  },
  {
   "cell_type": "code",
   "execution_count": null,
   "metadata": {},
   "outputs": [],
   "source": [
    "# how many resources per site"
   ]
  },
  {
   "cell_type": "code",
   "execution_count": null,
   "metadata": {},
   "outputs": [],
   "source": [
    "print third_party_resources.groupby(by='source').count().reset_index().sort_values(by='url', ascending=False)"
   ]
  },
  {
   "cell_type": "code",
   "execution_count": null,
   "metadata": {},
   "outputs": [],
   "source": [
    "# how many domains per site"
   ]
  },
  {
   "cell_type": "code",
   "execution_count": null,
   "metadata": {},
   "outputs": [],
   "source": [
    "def get_domain_for_org(url):\n",
    "    extracted = tldextract.extract(url)\n",
    "    return \"{}.{}\".format(extracted.domain, extracted.suffix)"
   ]
  },
  {
   "cell_type": "code",
   "execution_count": null,
   "metadata": {},
   "outputs": [],
   "source": [
    "domains = pd.DataFrame({'domain': third_party_resources['url'].apply(get_domain_for_org)})\n",
    "resource_domains = pd.concat([third_party_resources, domains], axis=1).drop(columns=['url'])\n",
    "print resource_domains.groupby(by='source').domain.nunique()"
   ]
  },
  {
   "cell_type": "code",
   "execution_count": null,
   "metadata": {},
   "outputs": [],
   "source": [
    "# which organizations do these domains represent"
   ]
  },
  {
   "cell_type": "code",
   "execution_count": null,
   "metadata": {},
   "outputs": [],
   "source": [
    "with open('webXray/domain_owners.json') as f:\n",
    "    domain_owners = json.load(f)\n",
    "    \n",
    "domain_to_org = dict()\n",
    "for do in domain_owners:\n",
    "    org = do['owner_name']\n",
    "    \n",
    "    for domain in do['domains']:\n",
    "        domain_to_org[domain] = org"
   ]
  },
  {
   "cell_type": "code",
   "execution_count": null,
   "metadata": {},
   "outputs": [],
   "source": [
    "domain_orgs = pd.DataFrame({'org': resource_domains['domain'].map(domain_to_org)})\n",
    "resource_orgs = pd.concat([resource_domains, domain_orgs], axis=1).drop(columns=['domain'])\n",
    "print resource_orgs.groupby(by='source').org.nunique()"
   ]
  }
 ],
 "metadata": {
  "kernelspec": {
   "display_name": "Python 2",
   "language": "python",
   "name": "python2"
  },
  "language_info": {
   "codemirror_mode": {
    "name": "ipython",
    "version": 2
   },
   "file_extension": ".py",
   "mimetype": "text/x-python",
   "name": "python",
   "nbconvert_exporter": "python",
   "pygments_lexer": "ipython2",
   "version": "2.7.14"
  }
 },
 "nbformat": 4,
 "nbformat_minor": 2
}
