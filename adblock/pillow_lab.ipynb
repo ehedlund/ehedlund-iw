{
 "cells": [
  {
   "cell_type": "code",
   "execution_count": 12,
   "metadata": {},
   "outputs": [],
   "source": [
    "import pandas as pd\n",
    "from adblockparser import AdblockRules"
   ]
  },
  {
   "cell_type": "code",
   "execution_count": 13,
   "metadata": {},
   "outputs": [],
   "source": [
    "# get all resources loaded\n",
    "crawl_results = pd.read_csv('input/pillow_lab.csv')"
   ]
  },
  {
   "cell_type": "code",
   "execution_count": 14,
   "metadata": {},
   "outputs": [
    {
     "name": "stdout",
     "output_type": "stream",
     "text": [
      "          url\n",
      "visit_id     \n",
      "1         691\n",
      "2         305\n",
      "3         278\n",
      "4         204\n",
      "5         206\n",
      "6         489\n",
      "7         193\n",
      "8         573\n",
      "9         190\n",
      "10        178\n",
      "11        435\n",
      "12        153\n",
      "13        166\n",
      "14        439\n",
      "15        421\n"
     ]
    }
   ],
   "source": [
    "# limit to third party resources\n",
    "third_party = crawl_results[~crawl_results.url.str.contains('pillowlab.wordpress.com')]\n",
    "print third_party.groupby('visit_id').count()"
   ]
  },
  {
   "cell_type": "code",
   "execution_count": 15,
   "metadata": {},
   "outputs": [],
   "source": [
    "# count number resources blocked as ads"
   ]
  },
  {
   "cell_type": "code",
   "execution_count": 16,
   "metadata": {},
   "outputs": [],
   "source": [
    "# create adblockrules from easylist\n",
    "with open('input/easylist.txt') as f:\n",
    "    raw_rules = f.readlines()\n",
    "    \n",
    "rules = AdblockRules(raw_rules)"
   ]
  },
  {
   "cell_type": "code",
   "execution_count": 17,
   "metadata": {},
   "outputs": [
    {
     "name": "stderr",
     "output_type": "stream",
     "text": [
      "/home/ehedlund/.local/lib/python2.7/site-packages/ipykernel_launcher.py:1: SettingWithCopyWarning: \n",
      "A value is trying to be set on a copy of a slice from a DataFrame.\n",
      "Try using .loc[row_indexer,col_indexer] = value instead\n",
      "\n",
      "See the caveats in the documentation: http://pandas.pydata.org/pandas-docs/stable/indexing.html#indexing-view-versus-copy\n",
      "  \"\"\"Entry point for launching an IPython kernel.\n"
     ]
    }
   ],
   "source": [
    "third_party['blocked'] = third_party['url'].apply(rules.should_block)"
   ]
  },
  {
   "cell_type": "code",
   "execution_count": 25,
   "metadata": {},
   "outputs": [
    {
     "name": "stdout",
     "output_type": "stream",
     "text": [
      "visit_id\n",
      "8     238\n",
      "6     195\n",
      "1     172\n",
      "14    168\n",
      "11    164\n",
      "15    162\n",
      "7      85\n",
      "9      82\n",
      "5      72\n",
      "4      71\n",
      "10     64\n",
      "12     54\n",
      "13     52\n",
      "2      38\n",
      "3      27\n",
      "Name: blocked, dtype: int64\n"
     ]
    }
   ],
   "source": [
    "ads = third_party[third_party['blocked']]\n",
    "print ads.groupby('visit_id').count().sort_values('blocked', ascending=False)['blocked']"
   ]
  },
  {
   "cell_type": "code",
   "execution_count": null,
   "metadata": {},
   "outputs": [],
   "source": []
  }
 ],
 "metadata": {
  "kernelspec": {
   "display_name": "Python 2",
   "language": "python",
   "name": "python2"
  },
  "language_info": {
   "codemirror_mode": {
    "name": "ipython",
    "version": 2
   },
   "file_extension": ".py",
   "mimetype": "text/x-python",
   "name": "python",
   "nbconvert_exporter": "python",
   "pygments_lexer": "ipython2",
   "version": "2.7.15rc1"
  }
 },
 "nbformat": 4,
 "nbformat_minor": 2
}
