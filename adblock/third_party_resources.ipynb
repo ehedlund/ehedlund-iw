{
 "cells": [
  {
   "cell_type": "code",
   "execution_count": 335,
   "metadata": {},
   "outputs": [],
   "source": [
    "from urlparse import urlparse\n",
    "import pandas as pd\n",
    "import csv\n",
    "import json\n",
    "import tldextract"
   ]
  },
  {
   "cell_type": "code",
   "execution_count": 336,
   "metadata": {},
   "outputs": [],
   "source": [
    "def get_domain(url):\n",
    "    if (pd.isnull(url)):\n",
    "        return \"\"\n",
    "    else:\n",
    "        return urlparse(url.replace(\"www.\",\"\")).hostname"
   ]
  },
  {
   "cell_type": "code",
   "execution_count": 337,
   "metadata": {},
   "outputs": [],
   "source": [
    "def process_url(url):\n",
    "    if (pd.isnull(url)):\n",
    "        return \"\"\n",
    "    else:\n",
    "        return url.replace(\"https://\", \"\").replace(\"http://\", \"\").replace(\"www.\",\"\").rstrip('/')"
   ]
  },
  {
   "cell_type": "code",
   "execution_count": 338,
   "metadata": {},
   "outputs": [],
   "source": [
    "# import site list\n",
    "site_csv = pd.read_csv('../final_sites.csv', names=['site'], header=None)\n",
    "sites = site_csv['site'].apply(process_url).tolist()\n",
    "site_domains = site_csv['site'].apply(get_domain).tolist()"
   ]
  },
  {
   "cell_type": "code",
   "execution_count": 339,
   "metadata": {},
   "outputs": [
    {
     "name": "stdout",
     "output_type": "stream",
     "text": [
      "152395\n",
      "142396\n",
      "57521\n"
     ]
    }
   ],
   "source": [
    "# import resource table\n",
    "resources = pd.read_csv('input/3_col_resources.csv', names=['url', 'top_level_url', 'loading_origin'], header=None)\n",
    "print len(resources)\n",
    "\n",
    "# limit to resources whose site we can reasonably identify\n",
    "resources['tlu_hn'] = resources['top_level_url'].apply(process_url)\n",
    "resources['lo_hn'] = resources['loading_origin'].apply(process_url)\n",
    "ident_resources = resources[(resources['tlu_hn'].isin(sites) | resources['lo_hn'].isin(sites))\n",
    "]\n",
    "\n",
    "# then attribute each resource to that site\n",
    "# use loading origin \n",
    "source = ident_resources['lo_hn'].where(ident_resources['lo_hn'].isin(sites), ident_resources['tlu_hn'])\n",
    "source = pd.DataFrame({'source': source})\n",
    "ident_resources = pd.concat([ident_resources, source], axis=1)\n",
    "ident_resources = ident_resources.drop(columns=['top_level_url', 'loading_origin', 'tlu_hn', 'lo_hn'])\n",
    "print len(ident_resources)\n",
    "\n",
    "# limit to third-party resources, or resources not originating from the source site\n",
    "third_party_resources = ident_resources[~ident_resources['url'].apply(get_domain).isin(site_domains)]\n",
    "print len(third_party_resources)"
   ]
  },
  {
   "cell_type": "code",
   "execution_count": 349,
   "metadata": {},
   "outputs": [],
   "source": [
    "# write to csv for ad analysis\n",
    "third_party_resources.to_csv('output/third_party_resources.csv', index=False)"
   ]
  },
  {
   "cell_type": "code",
   "execution_count": 341,
   "metadata": {},
   "outputs": [],
   "source": [
    "# how many resources per site"
   ]
  },
  {
   "cell_type": "code",
   "execution_count": 342,
   "metadata": {},
   "outputs": [
    {
     "name": "stdout",
     "output_type": "stream",
     "text": [
      "                                                source   url\n",
      "80                                 blogs.princeton.edu  9494\n",
      "763                              scholar.princeton.edu  2199\n",
      "235                                          dsrny.com  1268\n",
      "637                                      princeton.edu   922\n",
      "603                            pillowlab.wordpress.com   894\n",
      "632                 princeton.academia.edu/AnnaShields   713\n",
      "64                                 bacdancecompany.com   512\n",
      "633                princeton.academia.edu/MarinaRustow   497\n",
      "51                                  arts.princeton.edu   450\n",
      "141                      chikaokeke-agulu.blogspot.com   436\n",
      "174                                   cs.princeton.edu   418\n",
      "195                              dailyprincetonian.com   390\n",
      "21                           agchallenge.princeton.edu   376\n",
      "100                                      bobholman.com   370\n",
      "634                    princeton.academia.edu/MattKarp   367\n",
      "636                princeton.academia.edu/VeraCandiani   360\n",
      "331                              goprincetontigers.com   321\n",
      "502                                  movingforlife.org   312\n",
      "92                        blogs.princeton.edu/reelmudd   295\n",
      "635                  princeton.academia.edu/RobCWegman   293\n",
      "303                                    francinekay.com   290\n",
      "567                                 pcur.princeton.edu   286\n",
      "216                             devstaff.princeton.edu   279\n",
      "221                             disiacdancecompany.com   279\n",
      "140                                       chignell.net   274\n",
      "688                              princetonwildcats.com   269\n",
      "619                             poloclub.princeton.edu   262\n",
      "74                           biodigester.princeton.edu   245\n",
      "2                                    aas.princeton.edu   243\n",
      "847                                 tagd.princeton.edu   240\n",
      "..                                                 ...   ...\n",
      "180                              cs.princeton.edu/~ogt     3\n",
      "126                             caseykaplangallery.com     3\n",
      "179                           cs.princeton.edu/~mfreed     3\n",
      "177                             cs.princeton.edu/~jrex     3\n",
      "175                           cs.princeton.edu/~dgabai     3\n",
      "639                                  princeton.edu/ais     2\n",
      "829                     stengel.mycpanel.princeton.edu     2\n",
      "640                                  princeton.edu/cbe     2\n",
      "432                              labs.ee.princeton.edu     2\n",
      "641                                 princeton.edu/cics     2\n",
      "642                               princeton.edu/engbio     2\n",
      "586                         physics.princeton.edu/~npo     2\n",
      "657                                 princeton.edu/~hsr     2\n",
      "544                                  opr.princeton.edu     2\n",
      "364                                  iac.princeton.edu     2\n",
      "653                            princeton.edu/~akosmrlj     2\n",
      "650                                  princeton.edu/sjp     2\n",
      "649                                princeton.edu/roxen     2\n",
      "648                             princeton.edu/printing     2\n",
      "902                         uservices-it.princeton.edu     2\n",
      "647                             princeton.edu/politics     2\n",
      "623                             pppl-new.princeton.edu     2\n",
      "644                            princeton.edu/mediakits     2\n",
      "646                          princeton.edu/palmerhouse     2\n",
      "645                               princeton.edu/onbase     2\n",
      "497                                  mor.princeton.edu     2\n",
      "916                   web.math.princeton.edu/~dafermos     2\n",
      "921                     web.math.princeton.edu/~shouwu     2\n",
      "923  webapps.pni.princeton.edu/ncc/JDC/JDC/Home_Pag...     2\n",
      "651                                 princeton.edu/tapp     2\n",
      "\n",
      "[945 rows x 2 columns]\n"
     ]
    }
   ],
   "source": [
    "print third_party_resources.groupby(by='source').count().reset_index().sort_values(by='url', ascending=False)"
   ]
  },
  {
   "cell_type": "code",
   "execution_count": 343,
   "metadata": {},
   "outputs": [],
   "source": [
    "# how many domains per site"
   ]
  },
  {
   "cell_type": "code",
   "execution_count": 344,
   "metadata": {},
   "outputs": [],
   "source": [
    "def get_domain_for_org(url):\n",
    "    extracted = tldextract.extract(url)\n",
    "    return \"{}.{}\".format(extracted.domain, extracted.suffix)"
   ]
  },
  {
   "cell_type": "code",
   "execution_count": 345,
   "metadata": {},
   "outputs": [
    {
     "name": "stdout",
     "output_type": "stream",
     "text": [
      "source\n",
      "aaa.princeton.edu                                        2\n",
      "aamginput.princeton.edu                                  6\n",
      "aas.princeton.edu                                        8\n",
      "aasa.princeton.edu                                       7\n",
      "abbyznewutility.org                                      3\n",
      "aboutjamesrichardson.com                                 3\n",
      "acapellago.princeton.edu                                 7\n",
      "access.princeton.edu                                     2\n",
      "accessibility.princeton.edu                              4\n",
      "acee.princeton.edu                                       7\n",
      "acsspu.princeton.edu                                     5\n",
      "act.princeton.edu                                        3\n",
      "adam-welch.com                                           3\n",
      "adamsliwinski.blogspot.com                               5\n",
      "adamwolf.princeton.edu                                   5\n",
      "addictionintheory.princeton.edu                          4\n",
      "adele.princeton.edu                                      8\n",
      "admission.princeton.edu                                  2\n",
      "adthis.princeton.edu                                     9\n",
      "adversarial-learning.princeton.edu                       2\n",
      "aftercensorshipbeforefreedom.princeton.edu               9\n",
      "agchallenge.princeton.edu                               24\n",
      "ahs2017.princeton.edu                                    4\n",
      "aiche.princeton.edu                                      7\n",
      "ajbc.io                                                  2\n",
      "akeylab.princeton.edu                                    2\n",
      "alcoholinitiative.princeton.edu                          5\n",
      "alexandrabellerdances.org                               11\n",
      "alfven.princeton.edu                                     3\n",
      "algraham.princeton.edu                                   3\n",
      "                                                        ..\n",
      "web.astro.princeton.edu                                  6\n",
      "web.math.princeton.edu/~dafermos                         1\n",
      "web.math.princeton.edu/~exn                              1\n",
      "web.math.princeton.edu/~mchudnov                         1\n",
      "web.math.princeton.edu/~ochodosh                         1\n",
      "web.math.princeton.edu/~rvan                             1\n",
      "web.math.princeton.edu/~shouwu                           1\n",
      "web.math.princeton.edu/~tdrivas                          2\n",
      "webapps.pni.princeton.edu/ncc/JDC/JDC/Home_Page.html     1\n",
      "webtap.princeton.edu                                     4\n",
      "wendy-heller.com                                         6\n",
      "wendybelcher.com                                         4\n",
      "wep.princeton.edu                                        5\n",
      "whigclio.princeton.edu                                   7\n",
      "whigclioblog.princeton.edu                               6\n",
      "white.princeton.edu                                      2\n",
      "whitmancollege.princeton.edu                             7\n",
      "wilderness.princeton.edu                                 7\n",
      "wilsoncollege.princeton.edu                              5\n",
      "wilsonlegacy.princeton.edu                               2\n",
      "wilsonmarker.princeton.edu                               2\n",
      "wip.princeton.edu                                        7\n",
      "wittenlab.org                                            5\n",
      "womensmentorship.princeton.edu                           4\n",
      "wordnet.princeton.edu                                    3\n",
      "writing.princeton.edu                                    3\n",
      "wstem.princeton.edu                                      7\n",
      "wwac.princeton.edu                                       3\n",
      "wws.princeton.edu                                       11\n",
      "yazdanilab.princeton.edu                                 4\n",
      "Name: domain, Length: 945, dtype: int64\n"
     ]
    }
   ],
   "source": [
    "domains = pd.DataFrame({'domain': third_party_resources['url'].apply(get_domain_for_org)})\n",
    "resource_domains = pd.concat([third_party_resources, domains], axis=1).drop(columns=['url'])\n",
    "print resource_domains.groupby(by='source').domain.nunique()"
   ]
  },
  {
   "cell_type": "code",
   "execution_count": 346,
   "metadata": {},
   "outputs": [],
   "source": [
    "# which organizations do these domains represent"
   ]
  },
  {
   "cell_type": "code",
   "execution_count": 347,
   "metadata": {},
   "outputs": [],
   "source": [
    "with open('webXray/domain_owners.json') as f:\n",
    "    domain_owners = json.load(f)\n",
    "    \n",
    "domain_to_org = dict()\n",
    "for do in domain_owners:\n",
    "    org = do['owner_name']\n",
    "    \n",
    "    for domain in do['domains']:\n",
    "        domain_to_org[domain] = org"
   ]
  },
  {
   "cell_type": "code",
   "execution_count": 348,
   "metadata": {},
   "outputs": [
    {
     "name": "stdout",
     "output_type": "stream",
     "text": [
      "source\n",
      "aaa.princeton.edu                                        2\n",
      "aamginput.princeton.edu                                  4\n",
      "aas.princeton.edu                                        6\n",
      "aasa.princeton.edu                                       6\n",
      "abbyznewutility.org                                      2\n",
      "aboutjamesrichardson.com                                 2\n",
      "acapellago.princeton.edu                                 6\n",
      "access.princeton.edu                                     2\n",
      "accessibility.princeton.edu                              4\n",
      "acee.princeton.edu                                       5\n",
      "acsspu.princeton.edu                                     4\n",
      "act.princeton.edu                                        3\n",
      "adam-welch.com                                           2\n",
      "adamsliwinski.blogspot.com                               3\n",
      "adamwolf.princeton.edu                                   4\n",
      "addictionintheory.princeton.edu                          3\n",
      "adele.princeton.edu                                      6\n",
      "admission.princeton.edu                                  2\n",
      "adthis.princeton.edu                                     7\n",
      "adversarial-learning.princeton.edu                       2\n",
      "aftercensorshipbeforefreedom.princeton.edu               7\n",
      "agchallenge.princeton.edu                               19\n",
      "ahs2017.princeton.edu                                    3\n",
      "aiche.princeton.edu                                      6\n",
      "ajbc.io                                                  2\n",
      "akeylab.princeton.edu                                    2\n",
      "alcoholinitiative.princeton.edu                          4\n",
      "alexandrabellerdances.org                                8\n",
      "alfven.princeton.edu                                     3\n",
      "algraham.princeton.edu                                   3\n",
      "                                                        ..\n",
      "web.astro.princeton.edu                                  5\n",
      "web.math.princeton.edu/~dafermos                         1\n",
      "web.math.princeton.edu/~exn                              1\n",
      "web.math.princeton.edu/~mchudnov                         1\n",
      "web.math.princeton.edu/~ochodosh                         1\n",
      "web.math.princeton.edu/~rvan                             1\n",
      "web.math.princeton.edu/~shouwu                           0\n",
      "web.math.princeton.edu/~tdrivas                          2\n",
      "webapps.pni.princeton.edu/ncc/JDC/JDC/Home_Page.html     0\n",
      "webtap.princeton.edu                                     3\n",
      "wendy-heller.com                                         5\n",
      "wendybelcher.com                                         3\n",
      "wep.princeton.edu                                        3\n",
      "whigclio.princeton.edu                                   6\n",
      "whigclioblog.princeton.edu                               5\n",
      "white.princeton.edu                                      2\n",
      "whitmancollege.princeton.edu                             5\n",
      "wilderness.princeton.edu                                 6\n",
      "wilsoncollege.princeton.edu                              4\n",
      "wilsonlegacy.princeton.edu                               2\n",
      "wilsonmarker.princeton.edu                               2\n",
      "wip.princeton.edu                                        6\n",
      "wittenlab.org                                            4\n",
      "womensmentorship.princeton.edu                           3\n",
      "wordnet.princeton.edu                                    3\n",
      "writing.princeton.edu                                    3\n",
      "wstem.princeton.edu                                      6\n",
      "wwac.princeton.edu                                       3\n",
      "wws.princeton.edu                                       10\n",
      "yazdanilab.princeton.edu                                 4\n",
      "Name: org, Length: 945, dtype: int64\n"
     ]
    }
   ],
   "source": [
    "domain_orgs = pd.DataFrame({'org': resource_domains['domain'].map(domain_to_org)})\n",
    "resource_orgs = pd.concat([resource_domains, domain_orgs], axis=1).drop(columns=['domain'])\n",
    "print resource_orgs.groupby(by='source').org.nunique()"
   ]
  }
 ],
 "metadata": {
  "kernelspec": {
   "display_name": "Python 2",
   "language": "python",
   "name": "python2"
  },
  "language_info": {
   "codemirror_mode": {
    "name": "ipython",
    "version": 2
   },
   "file_extension": ".py",
   "mimetype": "text/x-python",
   "name": "python",
   "nbconvert_exporter": "python",
   "pygments_lexer": "ipython2",
   "version": "2.7.15rc1"
  }
 },
 "nbformat": 4,
 "nbformat_minor": 2
}
