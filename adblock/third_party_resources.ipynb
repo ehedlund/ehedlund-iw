{
 "cells": [
  {
   "cell_type": "code",
   "execution_count": 43,
   "metadata": {},
   "outputs": [],
   "source": [
    "from urlparse import urlparse\n",
    "import pandas as pd\n",
    "import csv\n",
    "import json\n",
    "import tldextract"
   ]
  },
  {
   "cell_type": "code",
   "execution_count": 44,
   "metadata": {},
   "outputs": [],
   "source": [
    "def get_domain(url):\n",
    "    if (pd.isnull(url)):\n",
    "        return \"\"\n",
    "    else:\n",
    "        return urlparse(url.replace(\"www.\",\"\")).hostname"
   ]
  },
  {
   "cell_type": "code",
   "execution_count": 45,
   "metadata": {},
   "outputs": [],
   "source": [
    "def process_url(url):\n",
    "    if (pd.isnull(url)):\n",
    "        return \"\"\n",
    "    else:\n",
    "        return url.replace(\"https://\", \"\").replace(\"http://\", \"\").replace(\"www.\",\"\").rstrip('/')"
   ]
  },
  {
   "cell_type": "code",
   "execution_count": 46,
   "metadata": {},
   "outputs": [],
   "source": [
    "# import site list\n",
    "site_csv = pd.read_csv('../final_sites.csv', names=['site'], header=None)\n",
    "sites = site_csv['site'].apply(process_url).tolist()\n",
    "site_domains = site_csv['site'].apply(get_domain).tolist()"
   ]
  },
  {
   "cell_type": "code",
   "execution_count": 47,
   "metadata": {},
   "outputs": [
    {
     "name": "stdout",
     "output_type": "stream",
     "text": [
      "152395\n",
      "152395\n"
     ]
    }
   ],
   "source": [
    "# import request table\n",
    "request_csv = pd.read_csv('input/requests.csv') # visit_id, url\n",
    "print len(request_csv)\n",
    "visit_id_csv = pd.read_csv('../visit_id_to_site.csv') # visit_id, arguments\n",
    "\n",
    "requests = pd.merge(request_csv, visit_id_csv, on='visit_id')\n",
    "print len(requests)\n",
    "\n",
    "requests = requests.drop(columns=['visit_id']).rename(columns={'arguments': 'source'})\n",
    "requests['source'] = requests['source'].apply(process_url)"
   ]
  },
  {
   "cell_type": "code",
   "execution_count": 48,
   "metadata": {},
   "outputs": [
    {
     "name": "stdout",
     "output_type": "stream",
     "text": [
      "63581\n"
     ]
    }
   ],
   "source": [
    "# limit to third-party resources, or resources not originating from the source site\n",
    "third_party_resources = requests[~requests['url'].apply(get_domain).isin(site_domains)]\n",
    "print len(third_party_resources)"
   ]
  },
  {
   "cell_type": "code",
   "execution_count": 49,
   "metadata": {},
   "outputs": [],
   "source": [
    "# write to csv for ad analysis\n",
    "third_party_resources.to_csv('output/third_party_resources.csv', index=False)"
   ]
  },
  {
   "cell_type": "code",
   "execution_count": 50,
   "metadata": {},
   "outputs": [],
   "source": [
    "# how many resources per site"
   ]
  },
  {
   "cell_type": "code",
   "execution_count": 51,
   "metadata": {},
   "outputs": [
    {
     "name": "stdout",
     "output_type": "stream",
     "text": [
      "                                                 source   url\n",
      "176                             blogs.princeton.edu/sml  1386\n",
      "173                             blogs.princeton.edu/sas  1327\n",
      "374                                           dsrny.com  1268\n",
      "768                             pillowlab.wordpress.com   897\n",
      "140                       blogs.princeton.edu/notabilia   783\n",
      "119                       blogs.princeton.edu/imabandit   777\n",
      "803                  princeton.academia.edu/AnnaShields   717\n",
      "101                            blogs.princeton.edu/csml   669\n",
      "68                                  bacdancecompany.com   518\n",
      "804                 princeton.academia.edu/MarinaRustow   500\n",
      "52                                   arts.princeton.edu   453\n",
      "259                       chikaokeke-agulu.blogspot.com   436\n",
      "331                               dailyprincetonian.com   390\n",
      "21                            agchallenge.princeton.edu   376\n",
      "202                                       bobholman.com   373\n",
      "805                     princeton.academia.edu/MattKarp   370\n",
      "164                        blogs.princeton.edu/reelmudd   364\n",
      "807                 princeton.academia.edu/VeraCandiani   362\n",
      "474                               goprincetontigers.com   321\n",
      "663                                   movingforlife.org   312\n",
      "293                          crispygreene.wix.com/jenny   301\n",
      "806                   princeton.academia.edu/RobCWegman   295\n",
      "444                                     francinekay.com   292\n",
      "732                                  pcur.princeton.edu   286\n",
      "360                              disiacdancecompany.com   285\n",
      "258                                        chignell.net   280\n",
      "354                              devstaff.princeton.edu   279\n",
      "107                             blogs.princeton.edu/eqn   278\n",
      "971                               princetonwildcats.com   272\n",
      "786                              poloclub.princeton.edu   262\n",
      "...                                                 ...   ...\n",
      "1135                        scholar.princeton.edu/mkern     4\n",
      "1062                      scholar.princeton.edu/bcwrone     4\n",
      "1086                     scholar.princeton.edu/dwilcove     4\n",
      "1060                     scholar.princeton.edu/azpgroup     4\n",
      "932                             princeton.edu/~reddings     4\n",
      "1097                       scholar.princeton.edu/honore     4\n",
      "1134                     scholar.princeton.edu/mikkelpm     4\n",
      "917                               princeton.edu/~jkastl     4\n",
      "915                             princeton.edu/~itskhoki     4\n",
      "908                                 princeton.edu/~gpop     4\n",
      "255                        chemlabs.princeton.edu/doyle     3\n",
      "296                             cs.princeton.edu/~appel     3\n",
      "228                              caseykaplangallery.com     3\n",
      "622                             math.princeton.edu/~pds     2\n",
      "870                         princeton.edu/prospecthouse     2\n",
      "657                                   mor.princeton.edu     2\n",
      "920                                princeton.edu/~kohli     2\n",
      "751                          physics.princeton.edu/~npo     2\n",
      "508                                   iac.princeton.edu     2\n",
      "578                               labs.ee.princeton.edu     2\n",
      "792                              pppl-new.princeton.edu     2\n",
      "857                           princeton.edu/palmerhouse     2\n",
      "708                                   opr.princeton.edu     2\n",
      "1337                             webfeeds.princeton.edu     2\n",
      "1335                     web.math.princeton.edu/~shouwu     2\n",
      "1314                         uservices-it.princeton.edu     2\n",
      "1330                   web.math.princeton.edu/~dafermos     2\n",
      "588                                   lcg.princeton.edu     2\n",
      "933              princeton.edu/~sailing/site/index.html     2\n",
      "516   ifacilities.princeton.edu/WebMaint/NoCAS/login...     2\n",
      "\n",
      "[1361 rows x 2 columns]\n"
     ]
    }
   ],
   "source": [
    "print third_party_resources.groupby(by='source').count().reset_index().sort_values(by='url', ascending=False)"
   ]
  },
  {
   "cell_type": "code",
   "execution_count": 52,
   "metadata": {},
   "outputs": [],
   "source": [
    "# how many domains per site"
   ]
  },
  {
   "cell_type": "code",
   "execution_count": 53,
   "metadata": {},
   "outputs": [],
   "source": [
    "def get_domain_for_org(url):\n",
    "    extracted = tldextract.extract(url)\n",
    "    return \"{}.{}\".format(extracted.domain, extracted.suffix)"
   ]
  },
  {
   "cell_type": "code",
   "execution_count": 54,
   "metadata": {},
   "outputs": [
    {
     "name": "stdout",
     "output_type": "stream",
     "text": [
      "source\n",
      "aaa.princeton.edu                              2\n",
      "aamginput.princeton.edu                        6\n",
      "aas.princeton.edu                              8\n",
      "aasa.princeton.edu                             7\n",
      "abbyznewutility.org                            3\n",
      "aboutjamesrichardson.com                       3\n",
      "acapellago.princeton.edu                       7\n",
      "access.princeton.edu                           2\n",
      "accessibility.princeton.edu                    4\n",
      "acee.princeton.edu                             7\n",
      "acsspu.princeton.edu                           5\n",
      "act.princeton.edu                              3\n",
      "adam-welch.com                                 3\n",
      "adamsliwinski.blogspot.com                     5\n",
      "adamwolf.princeton.edu                         5\n",
      "addictionintheory.princeton.edu                4\n",
      "adele.princeton.edu                            8\n",
      "admission.princeton.edu                        2\n",
      "adthis.princeton.edu                           9\n",
      "adversarial-learning.princeton.edu             2\n",
      "aftercensorshipbeforefreedom.princeton.edu     9\n",
      "agchallenge.princeton.edu                     24\n",
      "ahs2017.princeton.edu                          4\n",
      "aiche.princeton.edu                            7\n",
      "ajbc.io                                        2\n",
      "akeylab.princeton.edu                          2\n",
      "alcoholinitiative.princeton.edu                5\n",
      "alexandrabellerdances.org                     11\n",
      "alfven.princeton.edu                           3\n",
      "algraham.princeton.edu                         3\n",
      "                                              ..\n",
      "web.math.princeton.edu/~exn                    1\n",
      "web.math.princeton.edu/~mchudnov               1\n",
      "web.math.princeton.edu/~ochodosh               1\n",
      "web.math.princeton.edu/~rvan                   1\n",
      "web.math.princeton.edu/~shouwu                 1\n",
      "web.math.princeton.edu/~tdrivas                2\n",
      "webfeeds.princeton.edu                         1\n",
      "webtap.princeton.edu                           4\n",
      "wendy-heller.com                               6\n",
      "wendybelcher.com                               4\n",
      "wep.princeton.edu                              4\n",
      "whetstonespring2016.princeton.edu              4\n",
      "whigclio.princeton.edu                         7\n",
      "whigclioblog.princeton.edu                     6\n",
      "white.princeton.edu                            2\n",
      "whitmancollege.princeton.edu                   7\n",
      "wilderness.princeton.edu                       7\n",
      "wilsoncollege.princeton.edu                    5\n",
      "wilsonlegacy.princeton.edu                     2\n",
      "wilsonmarker.princeton.edu                     2\n",
      "wip.princeton.edu                              7\n",
      "wittenlab.org                                  5\n",
      "womensmentorship.princeton.edu                 4\n",
      "wordnet.princeton.edu                          3\n",
      "writing.princeton.edu                          3\n",
      "wstem.princeton.edu                            7\n",
      "wwac.princeton.edu                             3\n",
      "wws.princeton.edu                             11\n",
      "wwwphy.princeton.edu/~yazdaniweb/Home.php      4\n",
      "yazdanilab.princeton.edu                       4\n",
      "Name: domain, Length: 1361, dtype: int64\n"
     ]
    }
   ],
   "source": [
    "domains = pd.DataFrame({'domain': third_party_resources['url'].apply(get_domain_for_org)})\n",
    "resource_domains = pd.concat([third_party_resources, domains], axis=1).drop(columns=['url'])\n",
    "print resource_domains.groupby(by='source').domain.nunique()"
   ]
  },
  {
   "cell_type": "code",
   "execution_count": 55,
   "metadata": {},
   "outputs": [],
   "source": [
    "# which organizations do these domains represent"
   ]
  },
  {
   "cell_type": "code",
   "execution_count": 56,
   "metadata": {},
   "outputs": [],
   "source": [
    "with open('webXray/domain_owners.json') as f:\n",
    "    domain_owners = json.load(f)\n",
    "    \n",
    "domain_to_org = dict()\n",
    "for do in domain_owners:\n",
    "    org = do['owner_name']\n",
    "    \n",
    "    for domain in do['domains']:\n",
    "        domain_to_org[domain] = org"
   ]
  },
  {
   "cell_type": "code",
   "execution_count": 57,
   "metadata": {},
   "outputs": [
    {
     "name": "stdout",
     "output_type": "stream",
     "text": [
      "source\n",
      "aaa.princeton.edu                              2\n",
      "aamginput.princeton.edu                        4\n",
      "aas.princeton.edu                              6\n",
      "aasa.princeton.edu                             6\n",
      "abbyznewutility.org                            2\n",
      "aboutjamesrichardson.com                       2\n",
      "acapellago.princeton.edu                       6\n",
      "access.princeton.edu                           2\n",
      "accessibility.princeton.edu                    4\n",
      "acee.princeton.edu                             5\n",
      "acsspu.princeton.edu                           4\n",
      "act.princeton.edu                              3\n",
      "adam-welch.com                                 2\n",
      "adamsliwinski.blogspot.com                     3\n",
      "adamwolf.princeton.edu                         4\n",
      "addictionintheory.princeton.edu                3\n",
      "adele.princeton.edu                            6\n",
      "admission.princeton.edu                        2\n",
      "adthis.princeton.edu                           7\n",
      "adversarial-learning.princeton.edu             2\n",
      "aftercensorshipbeforefreedom.princeton.edu     7\n",
      "agchallenge.princeton.edu                     19\n",
      "ahs2017.princeton.edu                          3\n",
      "aiche.princeton.edu                            6\n",
      "ajbc.io                                        2\n",
      "akeylab.princeton.edu                          2\n",
      "alcoholinitiative.princeton.edu                4\n",
      "alexandrabellerdances.org                      8\n",
      "alfven.princeton.edu                           3\n",
      "algraham.princeton.edu                         3\n",
      "                                              ..\n",
      "web.math.princeton.edu/~exn                    1\n",
      "web.math.princeton.edu/~mchudnov               1\n",
      "web.math.princeton.edu/~ochodosh               1\n",
      "web.math.princeton.edu/~rvan                   1\n",
      "web.math.princeton.edu/~shouwu                 0\n",
      "web.math.princeton.edu/~tdrivas                2\n",
      "webfeeds.princeton.edu                         0\n",
      "webtap.princeton.edu                           3\n",
      "wendy-heller.com                               5\n",
      "wendybelcher.com                               3\n",
      "wep.princeton.edu                              3\n",
      "whetstonespring2016.princeton.edu              3\n",
      "whigclio.princeton.edu                         6\n",
      "whigclioblog.princeton.edu                     5\n",
      "white.princeton.edu                            2\n",
      "whitmancollege.princeton.edu                   5\n",
      "wilderness.princeton.edu                       6\n",
      "wilsoncollege.princeton.edu                    4\n",
      "wilsonlegacy.princeton.edu                     2\n",
      "wilsonmarker.princeton.edu                     2\n",
      "wip.princeton.edu                              6\n",
      "wittenlab.org                                  4\n",
      "womensmentorship.princeton.edu                 3\n",
      "wordnet.princeton.edu                          3\n",
      "writing.princeton.edu                          3\n",
      "wstem.princeton.edu                            6\n",
      "wwac.princeton.edu                             3\n",
      "wws.princeton.edu                             10\n",
      "wwwphy.princeton.edu/~yazdaniweb/Home.php      4\n",
      "yazdanilab.princeton.edu                       4\n",
      "Name: org, Length: 1361, dtype: int64\n"
     ]
    }
   ],
   "source": [
    "domain_orgs = pd.DataFrame({'org': resource_domains['domain'].map(domain_to_org)})\n",
    "resource_orgs = pd.concat([resource_domains, domain_orgs], axis=1).drop(columns=['domain'])\n",
    "print resource_orgs.groupby(by='source').org.nunique()"
   ]
  }
 ],
 "metadata": {
  "kernelspec": {
   "display_name": "Python 2",
   "language": "python",
   "name": "python2"
  },
  "language_info": {
   "codemirror_mode": {
    "name": "ipython",
    "version": 2
   },
   "file_extension": ".py",
   "mimetype": "text/x-python",
   "name": "python",
   "nbconvert_exporter": "python",
   "pygments_lexer": "ipython2",
   "version": "2.7.15rc1"
  }
 },
 "nbformat": 4,
 "nbformat_minor": 2
}
