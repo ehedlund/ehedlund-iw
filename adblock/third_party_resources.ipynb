{
 "cells": [
  {
   "cell_type": "code",
   "execution_count": 1,
   "metadata": {},
   "outputs": [],
   "source": [
    "from urlparse import urlparse\n",
    "import pandas as pd\n",
    "import csv\n",
    "import json\n",
    "import matplotlib\n",
    "import tldextract"
   ]
  },
  {
   "cell_type": "code",
   "execution_count": 2,
   "metadata": {},
   "outputs": [],
   "source": [
    "def get_domain(url):\n",
    "    if (pd.isnull(url)):\n",
    "        return \"\"\n",
    "    else:\n",
    "        return urlparse(url.replace(\"www.\",\"\")).hostname"
   ]
  },
  {
   "cell_type": "code",
   "execution_count": 3,
   "metadata": {},
   "outputs": [],
   "source": [
    "def process_url(url):\n",
    "    if (pd.isnull(url)):\n",
    "        return \"\"\n",
    "    else:\n",
    "        return url.replace(\"https://\", \"\").replace(\"http://\", \"\").replace(\"www.\",\"\").rstrip('/')"
   ]
  },
  {
   "cell_type": "code",
   "execution_count": 4,
   "metadata": {},
   "outputs": [],
   "source": [
    "# import site list\n",
    "site_csv = pd.read_csv('../final_sites.csv', names=['site'], header=None)\n",
    "sites = site_csv['site'].apply(process_url).tolist()\n",
    "site_domains = site_csv['site'].apply(get_domain).tolist()"
   ]
  },
  {
   "cell_type": "code",
   "execution_count": 5,
   "metadata": {},
   "outputs": [
    {
     "name": "stdout",
     "output_type": "stream",
     "text": [
      "152395\n",
      "152395\n"
     ]
    }
   ],
   "source": [
    "# import request table\n",
    "request_csv = pd.read_csv('input/requests.csv') # visit_id, url\n",
    "print len(request_csv)\n",
    "visit_id_csv = pd.read_csv('../visit_id_to_site.csv') # visit_id, arguments\n",
    "\n",
    "requests = pd.merge(request_csv, visit_id_csv, on='visit_id')\n",
    "print len(requests)\n",
    "\n",
    "requests = requests.drop(columns=['visit_id']).rename(columns={'arguments': 'source'})\n",
    "requests['source'] = requests['source'].apply(process_url)"
   ]
  },
  {
   "cell_type": "code",
   "execution_count": 6,
   "metadata": {},
   "outputs": [
    {
     "name": "stdout",
     "output_type": "stream",
     "text": [
      "63581\n"
     ]
    }
   ],
   "source": [
    "# limit to third-party resources, or resources not originating from the source site\n",
    "third_party_resources = requests[~requests['url'].apply(get_domain).isin(site_domains)]\n",
    "print len(third_party_resources)"
   ]
  },
  {
   "cell_type": "code",
   "execution_count": 7,
   "metadata": {},
   "outputs": [],
   "source": [
    "# write to csv for ad analysis\n",
    "third_party_resources.to_csv('output/third_party_resources.csv', index=False)"
   ]
  },
  {
   "cell_type": "code",
   "execution_count": 8,
   "metadata": {},
   "outputs": [],
   "source": [
    "# how many resources per site"
   ]
  },
  {
   "cell_type": "code",
   "execution_count": 9,
   "metadata": {},
   "outputs": [
    {
     "name": "stdout",
     "output_type": "stream",
     "text": [
      "                                                 source   url\n",
      "176                             blogs.princeton.edu/sml  1386\n",
      "173                             blogs.princeton.edu/sas  1327\n",
      "374                                           dsrny.com  1268\n",
      "768                             pillowlab.wordpress.com   897\n",
      "140                       blogs.princeton.edu/notabilia   783\n",
      "119                       blogs.princeton.edu/imabandit   777\n",
      "803                  princeton.academia.edu/AnnaShields   717\n",
      "101                            blogs.princeton.edu/csml   669\n",
      "68                                  bacdancecompany.com   518\n",
      "804                 princeton.academia.edu/MarinaRustow   500\n",
      "52                                   arts.princeton.edu   453\n",
      "259                       chikaokeke-agulu.blogspot.com   436\n",
      "331                               dailyprincetonian.com   390\n",
      "21                            agchallenge.princeton.edu   376\n",
      "202                                       bobholman.com   373\n",
      "805                     princeton.academia.edu/MattKarp   370\n",
      "164                        blogs.princeton.edu/reelmudd   364\n",
      "807                 princeton.academia.edu/VeraCandiani   362\n",
      "474                               goprincetontigers.com   321\n",
      "663                                   movingforlife.org   312\n",
      "293                          crispygreene.wix.com/jenny   301\n",
      "806                   princeton.academia.edu/RobCWegman   295\n",
      "444                                     francinekay.com   292\n",
      "732                                  pcur.princeton.edu   286\n",
      "360                              disiacdancecompany.com   285\n",
      "258                                        chignell.net   280\n",
      "354                              devstaff.princeton.edu   279\n",
      "107                             blogs.princeton.edu/eqn   278\n",
      "971                               princetonwildcats.com   272\n",
      "786                              poloclub.princeton.edu   262\n",
      "...                                                 ...   ...\n",
      "1135                        scholar.princeton.edu/mkern     4\n",
      "1062                      scholar.princeton.edu/bcwrone     4\n",
      "1086                     scholar.princeton.edu/dwilcove     4\n",
      "1060                     scholar.princeton.edu/azpgroup     4\n",
      "932                             princeton.edu/~reddings     4\n",
      "1097                       scholar.princeton.edu/honore     4\n",
      "1134                     scholar.princeton.edu/mikkelpm     4\n",
      "917                               princeton.edu/~jkastl     4\n",
      "915                             princeton.edu/~itskhoki     4\n",
      "908                                 princeton.edu/~gpop     4\n",
      "255                        chemlabs.princeton.edu/doyle     3\n",
      "296                             cs.princeton.edu/~appel     3\n",
      "228                              caseykaplangallery.com     3\n",
      "622                             math.princeton.edu/~pds     2\n",
      "870                         princeton.edu/prospecthouse     2\n",
      "657                                   mor.princeton.edu     2\n",
      "920                                princeton.edu/~kohli     2\n",
      "751                          physics.princeton.edu/~npo     2\n",
      "508                                   iac.princeton.edu     2\n",
      "578                               labs.ee.princeton.edu     2\n",
      "792                              pppl-new.princeton.edu     2\n",
      "857                           princeton.edu/palmerhouse     2\n",
      "708                                   opr.princeton.edu     2\n",
      "1337                             webfeeds.princeton.edu     2\n",
      "1335                     web.math.princeton.edu/~shouwu     2\n",
      "1314                         uservices-it.princeton.edu     2\n",
      "1330                   web.math.princeton.edu/~dafermos     2\n",
      "588                                   lcg.princeton.edu     2\n",
      "933              princeton.edu/~sailing/site/index.html     2\n",
      "516   ifacilities.princeton.edu/WebMaint/NoCAS/login...     2\n",
      "\n",
      "[1361 rows x 2 columns]\n"
     ]
    }
   ],
   "source": [
    "print third_party_resources.groupby(by='source').count().reset_index().sort_values(by='url', ascending=False)"
   ]
  },
  {
   "cell_type": "code",
   "execution_count": 10,
   "metadata": {},
   "outputs": [],
   "source": [
    "# which domains do these resources come from"
   ]
  },
  {
   "cell_type": "code",
   "execution_count": 11,
   "metadata": {},
   "outputs": [],
   "source": [
    "def get_domain_for_org(url):\n",
    "    extracted = tldextract.extract(url)\n",
    "    return \"{}.{}\".format(extracted.domain, extracted.suffix)"
   ]
  },
  {
   "cell_type": "code",
   "execution_count": 12,
   "metadata": {},
   "outputs": [
    {
     "name": "stdout",
     "output_type": "stream",
     "text": [
      "                       source\n",
      "domain                       \n",
      "wp.com                  11931\n",
      "google-analytics.com     6563\n",
      "gstatic.com              5257\n",
      "googleapis.com           3799\n",
      "princeton.edu            3361\n",
      "parastorage.com          2282\n",
      "gravatar.com             2197\n",
      "typekit.net              2086\n",
      "squarespace.com          2005\n",
      "facebook.com             1817\n",
      "youtube.com              1739\n",
      "sanity.io                1256\n",
      "google.com               1125\n",
      "nr-data.net              1021\n",
      "newrelic.com             1019\n",
      "doubleclick.net           945\n",
      "twimg.com                 901\n",
      "twitter.com               855\n",
      "cloudfront.net            769\n",
      "cloudflare.com            686\n",
      "vimeocdn.com              617\n",
      "editmysite.com            591\n",
      "wix.com                   579\n",
      "ytimg.com                 316\n",
      "netdna-ssl.com            290\n",
      "bootstrapcdn.com          276\n",
      "pubwise.io                268\n",
      "googlesyndication.com     258\n",
      "archive-it.org            258\n",
      "wixstatic.com             245\n",
      "...                       ...\n",
      "eyeviewads.com              2\n",
      "burstingpipe.               2\n",
      "tinypic.com                 2\n",
      "getsocial.io                2\n",
      "truex.com                   2\n",
      "254a.com                    2\n",
      "wunderground.com            2\n",
      "trafmag.com                 2\n",
      "yimg.com                    2\n",
      "firebaseio.com              2\n",
      "brealtime.com               2\n",
      "filesusr.com                2\n",
      "fg8dgt.com                  2\n",
      "btrll.com                   2\n",
      "tremorhub.com               2\n",
      "33across.com                1\n",
      "yieldmo.com                 1\n",
      "3lift.com                   1\n",
      "dmxleo.com                  1\n",
      "adclickthru.net             1\n",
      "adstanding.com              1\n",
      "adx1.com                    1\n",
      "nrich.ai                    1\n",
      "ib-ibi.com                  1\n",
      "brand-display.com           1\n",
      "bttrack.com                 1\n",
      "eqads.com                   1\n",
      "emxdgt.com                  1\n",
      "dyntrk.com                  1\n",
      "google.com.hk               1\n",
      "\n",
      "[398 rows x 1 columns]\n"
     ]
    }
   ],
   "source": [
    "domains = pd.DataFrame({'domain': third_party_resources['url'].apply(get_domain_for_org)})\n",
    "resource_domains = pd.concat([third_party_resources, domains], axis=1).drop(columns=['url'])\n",
    "print resource_domains.groupby(by='domain').count().sort_values(by='source', ascending=False)"
   ]
  },
  {
   "cell_type": "code",
   "execution_count": 13,
   "metadata": {},
   "outputs": [],
   "source": [
    "# which organizations do these domains represent"
   ]
  },
  {
   "cell_type": "code",
   "execution_count": 14,
   "metadata": {},
   "outputs": [],
   "source": [
    "with open('webXray/domain_owners.json') as f:\n",
    "    domain_owners = json.load(f)\n",
    "    \n",
    "domain_to_org = dict()\n",
    "for do in domain_owners:\n",
    "    org = do['owner_name']\n",
    "    \n",
    "    for domain in do['domains']:\n",
    "        domain_to_org[domain] = org"
   ]
  },
  {
   "cell_type": "code",
   "execution_count": 15,
   "metadata": {},
   "outputs": [
    {
     "name": "stdout",
     "output_type": "stream",
     "text": [
      "                                      source\n",
      "org                                         \n",
      "Wordpress                              12086\n",
      "Google Analytics                        6563\n",
      "Google                                  6510\n",
      "Google APIs                             3799\n",
      "Gravatar                                2197\n",
      "Typekit                                 2179\n",
      "Facebook                                2177\n",
      "YouTube                                 2055\n",
      "New Relic                               2040\n",
      "Twitter                                 1756\n",
      "Amazon Web Services                      967\n",
      "DoubleClick                              965\n",
      "Vimeo                                    771\n",
      "Cloudflare                               686\n",
      "Blogger                                  298\n",
      "StackPath                                276\n",
      "AdSense                                  266\n",
      "Google Tag Manager                       188\n",
      "Pinterest                                180\n",
      "Share This                               163\n",
      "AddThis                                  151\n",
      "Tumblr                                   134\n",
      "PubMatic                                 119\n",
      "Statcounter                              112\n",
      "AppNexus                                 110\n",
      "OpenX                                    108\n",
      "jsDelivr                                 104\n",
      "Instagram                                 82\n",
      "Amazon Marketing Services                 77\n",
      "ScorecardResearch                         76\n",
      "...                                      ...\n",
      "Bing                                       4\n",
      "Tube Mogul                                 4\n",
      "AdGear                                     4\n",
      "Spot X Change                              4\n",
      "Run                                        4\n",
      "Videology Group                            4\n",
      "Media.net                                  3\n",
      "Adriver                                    3\n",
      "Media Innovation Group                     3\n",
      "MyFonts                                    3\n",
      "Netmining                                  3\n",
      "Exponential Advertising Intelligence       3\n",
      "BrightRoll                                 2\n",
      "Criteo                                     2\n",
      "Moat                                       2\n",
      "Microsoft                                  2\n",
      "Appier Inc                                 2\n",
      "Smart AdServer                             2\n",
      "Sizmek                                     2\n",
      "ADYOULIKE                                  2\n",
      "Weather Underground                        2\n",
      "Gumgum                                     2\n",
      "Eyeview                                    2\n",
      "Optimizely                                 2\n",
      "Tremor Video                               2\n",
      "Dynadmic                                   1\n",
      "iBehavior                                  1\n",
      "TripleLift                                 1\n",
      "Eq Works                                   1\n",
      "33Across                                   1\n",
      "\n",
      "[123 rows x 1 columns]\n"
     ]
    }
   ],
   "source": [
    "domain_orgs = pd.DataFrame({'org': resource_domains['domain'].map(domain_to_org)})\n",
    "resource_orgs = pd.concat([resource_domains, domain_orgs], axis=1).drop(columns=['domain'])\n",
    "print resource_orgs.groupby(by='org').count().sort_values(by='source', ascending=False)"
   ]
  },
  {
   "cell_type": "code",
   "execution_count": null,
   "metadata": {},
   "outputs": [],
   "source": []
  }
 ],
 "metadata": {
  "kernelspec": {
   "display_name": "Python 2",
   "language": "python",
   "name": "python2"
  },
  "language_info": {
   "codemirror_mode": {
    "name": "ipython",
    "version": 2
   },
   "file_extension": ".py",
   "mimetype": "text/x-python",
   "name": "python",
   "nbconvert_exporter": "python",
   "pygments_lexer": "ipython2",
   "version": "2.7.15rc1"
  }
 },
 "nbformat": 4,
 "nbformat_minor": 2
}
