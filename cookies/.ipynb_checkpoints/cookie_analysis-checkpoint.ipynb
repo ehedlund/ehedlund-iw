{
 "cells": [
  {
   "cell_type": "code",
   "execution_count": 18,
   "metadata": {},
   "outputs": [],
   "source": [
    "import pandas as pd\n",
    "import json"
   ]
  },
  {
   "cell_type": "code",
   "execution_count": 19,
   "metadata": {},
   "outputs": [
    {
     "name": "stdout",
     "output_type": "stream",
     "text": [
      "29401\n",
      "29401\n"
     ]
    }
   ],
   "source": [
    "cookie_csv = pd.read_csv('input/cookies.csv')\n",
    "print len(cookie_csv)\n",
    "visit_id_csv = pd.read_csv('../visit_id_to_site.csv')\n",
    "cookies = pd.merge(cookie_csv, visit_id_csv, on='visit_id')\n",
    "print len(cookies)"
   ]
  },
  {
   "cell_type": "code",
   "execution_count": 20,
   "metadata": {},
   "outputs": [],
   "source": [
    "cookies = cookies.drop(columns=['visit_id']).rename(columns={'baseDomain': 'cookieSource', 'arguments': 'site'})\n",
    "cookies['thirdParty'] = cookies.apply(lambda x: x.cookieSource not in x.site, axis=1)"
   ]
  },
  {
   "cell_type": "code",
   "execution_count": 21,
   "metadata": {},
   "outputs": [],
   "source": [
    "# count number of sites with third-party cookies"
   ]
  },
  {
   "cell_type": "code",
   "execution_count": 22,
   "metadata": {},
   "outputs": [
    {
     "name": "stdout",
     "output_type": "stream",
     "text": [
      "site\n",
      "http://princeton.academia.edu/AnnaShields         305\n",
      "http://pillowlab.wordpress.com                    254\n",
      "http://princeton.academia.edu/MarinaRustow        207\n",
      "http://princeton.academia.edu/VeraCandiani        159\n",
      "http://princeton.academia.edu/MattKarp            159\n",
      "http://movementgroup.org/                         159\n",
      "http://princeton.academia.edu/RobCWegman          143\n",
      "http://dailyprincetonian.com                      112\n",
      "http://alumni.princeton.edu                        96\n",
      "http://princeton.edu/~fig/                         72\n",
      "http://agchallenge.princeton.edu                   61\n",
      "http://gss.princeton.edu                           58\n",
      "http://outdooraction.princeton.edu/                51\n",
      "http://q-aps.princeton.edu                         51\n",
      "http://scholar.princeton.edu/dconley               50\n",
      "http://press.princeton.edu                         45\n",
      "http://goprincetontigers.com                       41\n",
      "http://scholar.princeton.edu/gwise                 37\n",
      "http://wws.princeton.edu                           37\n",
      "http://omarwasow.com/                              36\n",
      "http://uncertainsuffering.com/                     32\n",
      "http://ericplutz.com/                              30\n",
      "http://itunconference.princeton.edu/               28\n",
      "http://blogs.princeton.edu/americancomics          27\n",
      "http://movingforlife.org/                          26\n",
      "http://profvreeland.com/                           24\n",
      "http://petersinger.info/                           24\n",
      "http://princeton.edu/~hsr                          22\n",
      "http://futureofchildren.org/                       22\n",
      "http://cs.princeton.edu/~ehazan                    22\n",
      "                                                 ... \n",
      "http://function.princeton.edu                       2\n",
      "http://fsi.princeton.edu/                           2\n",
      "http://scattershot.org/                             2\n",
      "http://fragilefamilies.princeton.edu/               2\n",
      "http://fintech.princeton.edu/                       2\n",
      "http://film.princeton.edu/                          2\n",
      "http://secretsocietymusic.org/intro/#&panel1-1      2\n",
      "http://farmersmarket.princeton.edu/                 2\n",
      "http://shab.princeton.edu/                          2\n",
      "http://hindu.princeton.edu/                         2\n",
      "http://ianbphillips.com/                            2\n",
      "http://inch.princeton.edu/                          2\n",
      "http://informationsecurity.princeton.edu/           2\n",
      "http://lawrence.princeton.edu/                      2\n",
      "http://lafleurstephensdougan.com/                   2\n",
      "http://krisdavis.net/                               2\n",
      "http://kocherlab.com/                               2\n",
      "http://pubss.princeton.edu/                         2\n",
      "http://khayutin.github.io/                          2\n",
      "http://puccc.princeton.edu/                         2\n",
      "http://keeangataylor.com/                           2\n",
      "http://pugs.princeton.edu/                          2\n",
      "http://jeffwhetstone.net/                           2\n",
      "http://jefferson3volumes.princeton.edu              2\n",
      "http://jacquelinehorner.com/                        2\n",
      "http://rebeccastenncompany.com/                     2\n",
      "http://initiative.princeton.edu/                    2\n",
      "http://hackprinceton.com                            2\n",
      "http://jeffersonpapers.princeton.edu/               1\n",
      "http://brianherrera.org/                            1\n",
      "Name: thirdParty, Length: 356, dtype: int64\n"
     ]
    }
   ],
   "source": [
    "print cookies[cookies['thirdParty']].groupby('site').count()['thirdParty'].sort_values(ascending=False)\n",
    "\n",
    "cookies[cookies['thirdParty']].groupby('site').count().to_csv('output/third_party_counts.csv')"
   ]
  },
  {
   "cell_type": "code",
   "execution_count": 23,
   "metadata": {},
   "outputs": [],
   "source": [
    "# count number third-party cookies"
   ]
  },
  {
   "cell_type": "code",
   "execution_count": 24,
   "metadata": {},
   "outputs": [
    {
     "name": "stdout",
     "output_type": "stream",
     "text": [
      "thirdParty\n",
      "False    25081\n",
      "True      4320\n",
      "Name: site, dtype: int64\n"
     ]
    }
   ],
   "source": [
    "print cookies.groupby('thirdParty').count()['site']"
   ]
  },
  {
   "cell_type": "code",
   "execution_count": 25,
   "metadata": {},
   "outputs": [],
   "source": [
    "# count number secure third-party cookies"
   ]
  },
  {
   "cell_type": "code",
   "execution_count": 26,
   "metadata": {},
   "outputs": [
    {
     "name": "stdout",
     "output_type": "stream",
     "text": [
      "isSecure\n",
      "0    4017\n",
      "1     303\n",
      "Name: thirdParty, dtype: int64\n"
     ]
    }
   ],
   "source": [
    "print cookies[cookies['thirdParty']].groupby('isSecure').count()['thirdParty']"
   ]
  },
  {
   "cell_type": "code",
   "execution_count": 27,
   "metadata": {},
   "outputs": [],
   "source": [
    "# count number http only third-party cookies"
   ]
  },
  {
   "cell_type": "code",
   "execution_count": 28,
   "metadata": {},
   "outputs": [
    {
     "name": "stdout",
     "output_type": "stream",
     "text": [
      "isHttpOnly\n",
      "0    3209\n",
      "1    1111\n",
      "Name: thirdParty, dtype: int64\n"
     ]
    }
   ],
   "source": [
    "print cookies[cookies['thirdParty']].groupby('isHttpOnly').count()['thirdParty']"
   ]
  },
  {
   "cell_type": "code",
   "execution_count": 29,
   "metadata": {},
   "outputs": [],
   "source": [
    "# find cookie sources"
   ]
  },
  {
   "cell_type": "code",
   "execution_count": 30,
   "metadata": {},
   "outputs": [],
   "source": [
    "with open('../adblock/webXray/domain_owners.json') as f:\n",
    "    domain_owners = json.load(f)\n",
    "    \n",
    "domain_to_org = dict()\n",
    "for do in domain_owners:\n",
    "    org = do['owner_name']\n",
    "    \n",
    "    for domain in do['domains']:\n",
    "        domain_to_org[domain] = org"
   ]
  },
  {
   "cell_type": "code",
   "execution_count": 36,
   "metadata": {},
   "outputs": [
    {
     "name": "stdout",
     "output_type": "stream",
     "text": [
      "org\n",
      "Google                       432\n",
      "PubMatic                     370\n",
      "YouTube                      331\n",
      "DoubleClick                  249\n",
      "Rubicon Project              173\n",
      "Facebook                     171\n",
      "Statcounter                  165\n",
      "AddThis                      138\n",
      "Twitter                       96\n",
      "Vimeo                         80\n",
      "Index Exchange                64\n",
      "DataXu                        63\n",
      "ScorecardResearch             62\n",
      "Lotame                        48\n",
      "Blue Kai                      44\n",
      "The Trade Desk                44\n",
      "Media Math                    42\n",
      "LiveRamp                      41\n",
      "AppNexus                      39\n",
      "Quantcast                     28\n",
      "Pinterest                     28\n",
      "Share This                    28\n",
      "Rocketfuel                    28\n",
      "Amazon Marketing Services     26\n",
      "StickyADS.tv                  24\n",
      "Teads                         24\n",
      "exelate                       22\n",
      "Neustar Marketing             20\n",
      "Yahoo                         20\n",
      "SiteScout                     20\n",
      "                            ... \n",
      "simpli.fi                      6\n",
      "Madison Logic                  6\n",
      "Smart AdServer                 6\n",
      "MaxPoint Interactive           5\n",
      "AdForm                         5\n",
      "Dotomi                         5\n",
      "Skimlinks                      4\n",
      "Media Innovation Group         4\n",
      "Avocet                         4\n",
      "Videology Group                4\n",
      "AdGear                         4\n",
      "Eyeota                         4\n",
      "Radium One                     4\n",
      "Sizmek                         4\n",
      "Yandex                         3\n",
      "Netmining                      3\n",
      "Tremor Video                   2\n",
      "Tube Mogul                     2\n",
      "Spot X Change                  2\n",
      "Nielsen Online                 2\n",
      "ADYOULIKE                      2\n",
      "Media.net                      2\n",
      "Integral Ad Science            2\n",
      "Gumgum                         2\n",
      "Beeswax                        2\n",
      "Appier Inc                     2\n",
      "Adobe Marketing Cloud          2\n",
      "Eyeview                        1\n",
      "Eq Works                       1\n",
      "33Across                       1\n",
      "Name: cookieSource, Length: 84, dtype: int64\n"
     ]
    }
   ],
   "source": [
    "tpc = cookies[cookies['thirdParty']]\n",
    "orgs = pd.DataFrame({'org': tpc['cookieSource'].map(domain_to_org)})\n",
    "cookie_orgs = pd.concat([tpc, orgs], axis=1)\n",
    "print cookie_orgs.groupby(by='org').count().sort_values(by='cookieSource', ascending=False)['cookieSource']"
   ]
  },
  {
   "cell_type": "code",
   "execution_count": null,
   "metadata": {},
   "outputs": [],
   "source": []
  }
 ],
 "metadata": {
  "kernelspec": {
   "display_name": "Python 2",
   "language": "python",
   "name": "python2"
  },
  "language_info": {
   "codemirror_mode": {
    "name": "ipython",
    "version": 2
   },
   "file_extension": ".py",
   "mimetype": "text/x-python",
   "name": "python",
   "nbconvert_exporter": "python",
   "pygments_lexer": "ipython2",
   "version": "2.7.15rc1"
  }
 },
 "nbformat": 4,
 "nbformat_minor": 2
}
