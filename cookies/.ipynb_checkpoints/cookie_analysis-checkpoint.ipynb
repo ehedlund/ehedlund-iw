{
 "cells": [
  {
   "cell_type": "code",
   "execution_count": 54,
   "metadata": {},
   "outputs": [],
   "source": [
    "import pandas as pd"
   ]
  },
  {
   "cell_type": "code",
   "execution_count": 55,
   "metadata": {},
   "outputs": [],
   "source": [
    "cookie_csv = pd.read_csv('input/cookies.csv')\n",
    "visit_id_csv = pd.read_csv('../visit_id_to_site.csv')\n",
    "cookies = pd.merge(cookie_csv, visit_id_csv, on='visit_id')"
   ]
  },
  {
   "cell_type": "code",
   "execution_count": 56,
   "metadata": {},
   "outputs": [],
   "source": [
    "cookies = cookies.drop(columns=['visit_id']).rename(columns={'baseDomain': 'cookieSource', 'arguments': 'site'})\n",
    "cookies['thirdParty'] = cookies.apply(lambda x: x.cookieSource not in x.site, axis=1)"
   ]
  },
  {
   "cell_type": "code",
   "execution_count": 57,
   "metadata": {},
   "outputs": [],
   "source": [
    "# count number of sites with third-party cookies"
   ]
  },
  {
   "cell_type": "code",
   "execution_count": 58,
   "metadata": {},
   "outputs": [
    {
     "name": "stdout",
     "output_type": "stream",
     "text": [
      "site\n",
      "http://princeton.academia.edu/AnnaShields         305\n",
      "http://pillowlab.wordpress.com                    254\n",
      "http://princeton.academia.edu/MarinaRustow        207\n",
      "http://princeton.academia.edu/VeraCandiani        159\n",
      "http://princeton.academia.edu/MattKarp            159\n",
      "http://movementgroup.org/                         159\n",
      "http://princeton.academia.edu/RobCWegman          143\n",
      "http://dailyprincetonian.com                      112\n",
      "http://alumni.princeton.edu                        96\n",
      "http://princeton.edu/~fig/                         72\n",
      "http://agchallenge.princeton.edu                   61\n",
      "http://gss.princeton.edu                           58\n",
      "http://outdooraction.princeton.edu/                51\n",
      "http://q-aps.princeton.edu                         51\n",
      "http://scholar.princeton.edu/dconley               50\n",
      "http://press.princeton.edu                         45\n",
      "http://goprincetontigers.com                       41\n",
      "http://scholar.princeton.edu/gwise                 37\n",
      "http://wws.princeton.edu                           37\n",
      "http://omarwasow.com/                              36\n",
      "http://uncertainsuffering.com/                     32\n",
      "http://ericplutz.com/                              30\n",
      "http://itunconference.princeton.edu/               28\n",
      "http://blogs.princeton.edu/americancomics          27\n",
      "http://movingforlife.org/                          26\n",
      "http://profvreeland.com/                           24\n",
      "http://petersinger.info/                           24\n",
      "http://princeton.edu/~hsr                          22\n",
      "http://futureofchildren.org/                       22\n",
      "http://cs.princeton.edu/~ehazan                    22\n",
      "                                                 ... \n",
      "http://function.princeton.edu                       2\n",
      "http://fsi.princeton.edu/                           2\n",
      "http://scattershot.org/                             2\n",
      "http://fragilefamilies.princeton.edu/               2\n",
      "http://fintech.princeton.edu/                       2\n",
      "http://film.princeton.edu/                          2\n",
      "http://secretsocietymusic.org/intro/#&panel1-1      2\n",
      "http://farmersmarket.princeton.edu/                 2\n",
      "http://shab.princeton.edu/                          2\n",
      "http://hindu.princeton.edu/                         2\n",
      "http://ianbphillips.com/                            2\n",
      "http://inch.princeton.edu/                          2\n",
      "http://informationsecurity.princeton.edu/           2\n",
      "http://lawrence.princeton.edu/                      2\n",
      "http://lafleurstephensdougan.com/                   2\n",
      "http://krisdavis.net/                               2\n",
      "http://kocherlab.com/                               2\n",
      "http://pubss.princeton.edu/                         2\n",
      "http://khayutin.github.io/                          2\n",
      "http://puccc.princeton.edu/                         2\n",
      "http://keeangataylor.com/                           2\n",
      "http://pugs.princeton.edu/                          2\n",
      "http://jeffwhetstone.net/                           2\n",
      "http://jefferson3volumes.princeton.edu              2\n",
      "http://jacquelinehorner.com/                        2\n",
      "http://rebeccastenncompany.com/                     2\n",
      "http://initiative.princeton.edu/                    2\n",
      "http://hackprinceton.com                            2\n",
      "http://jeffersonpapers.princeton.edu/               1\n",
      "http://brianherrera.org/                            1\n",
      "Name: thirdParty, Length: 356, dtype: int64\n"
     ]
    }
   ],
   "source": [
    "print cookies[cookies['thirdParty']].groupby('site').count()['thirdParty'].sort_values(ascending=False)"
   ]
  },
  {
   "cell_type": "code",
   "execution_count": 59,
   "metadata": {},
   "outputs": [],
   "source": [
    "# count number third-party cookies"
   ]
  },
  {
   "cell_type": "code",
   "execution_count": 60,
   "metadata": {},
   "outputs": [
    {
     "name": "stdout",
     "output_type": "stream",
     "text": [
      "thirdParty\n",
      "False    25081\n",
      "True      4320\n",
      "Name: site, dtype: int64\n"
     ]
    }
   ],
   "source": [
    "print cookies.groupby('thirdParty').count()['site']"
   ]
  },
  {
   "cell_type": "code",
   "execution_count": 61,
   "metadata": {},
   "outputs": [],
   "source": [
    "# count number secure third-party cookies"
   ]
  },
  {
   "cell_type": "code",
   "execution_count": 62,
   "metadata": {},
   "outputs": [
    {
     "name": "stdout",
     "output_type": "stream",
     "text": [
      "isSecure\n",
      "0    4017\n",
      "1     303\n",
      "Name: thirdParty, dtype: int64\n"
     ]
    }
   ],
   "source": [
    "print cookies[cookies['thirdParty']].groupby('isSecure').count()['thirdParty']"
   ]
  },
  {
   "cell_type": "code",
   "execution_count": 63,
   "metadata": {},
   "outputs": [],
   "source": [
    "# count number http only third-party cookies"
   ]
  },
  {
   "cell_type": "code",
   "execution_count": 64,
   "metadata": {},
   "outputs": [
    {
     "name": "stdout",
     "output_type": "stream",
     "text": [
      "isHttpOnly\n",
      "0    3209\n",
      "1    1111\n",
      "Name: thirdParty, dtype: int64\n"
     ]
    }
   ],
   "source": [
    "print cookies[cookies['thirdParty']].groupby('isHttpOnly').count()['thirdParty']"
   ]
  }
 ],
 "metadata": {
  "kernelspec": {
   "display_name": "Python 2",
   "language": "python",
   "name": "python2"
  },
  "language_info": {
   "codemirror_mode": {
    "name": "ipython",
    "version": 2
   },
   "file_extension": ".py",
   "mimetype": "text/x-python",
   "name": "python",
   "nbconvert_exporter": "python",
   "pygments_lexer": "ipython2",
   "version": "2.7.14"
  }
 },
 "nbformat": 4,
 "nbformat_minor": 2
}
