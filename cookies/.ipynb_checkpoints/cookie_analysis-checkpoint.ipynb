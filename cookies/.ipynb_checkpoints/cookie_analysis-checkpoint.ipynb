{
 "cells": [
  {
   "cell_type": "code",
   "execution_count": 20,
   "metadata": {},
   "outputs": [],
   "source": [
    "import pandas as pd"
   ]
  },
  {
   "cell_type": "code",
   "execution_count": 21,
   "metadata": {},
   "outputs": [
    {
     "name": "stdout",
     "output_type": "stream",
     "text": [
      "29401\n",
      "29401\n"
     ]
    }
   ],
   "source": [
    "cookie_csv = pd.read_csv('input/cookies.csv')\n",
    "print len(cookie_csv)\n",
    "visit_id_csv = pd.read_csv('../visit_id_to_site.csv')\n",
    "cookies = pd.merge(cookie_csv, visit_id_csv, on='visit_id')\n",
    "print len(cookies)"
   ]
  },
  {
   "cell_type": "code",
   "execution_count": 22,
   "metadata": {},
   "outputs": [],
   "source": [
    "cookies = cookies.drop(columns=['visit_id']).rename(columns={'baseDomain': 'cookieSource', 'arguments': 'site'})\n",
    "cookies['thirdParty'] = cookies.apply(lambda x: x.cookieSource not in x.site, axis=1)"
   ]
  },
  {
   "cell_type": "code",
   "execution_count": 23,
   "metadata": {},
   "outputs": [],
   "source": [
    "# count number of sites with third-party cookies"
   ]
  },
  {
   "cell_type": "code",
   "execution_count": 24,
   "metadata": {},
   "outputs": [
    {
     "name": "stdout",
     "output_type": "stream",
     "text": [
      "site\n",
      "http://princeton.academia.edu/AnnaShields         305\n",
      "http://pillowlab.wordpress.com                    254\n",
      "http://princeton.academia.edu/MarinaRustow        207\n",
      "http://princeton.academia.edu/VeraCandiani        159\n",
      "http://princeton.academia.edu/MattKarp            159\n",
      "http://movementgroup.org/                         159\n",
      "http://princeton.academia.edu/RobCWegman          143\n",
      "http://dailyprincetonian.com                      112\n",
      "http://alumni.princeton.edu                        96\n",
      "http://princeton.edu/~fig/                         72\n",
      "http://agchallenge.princeton.edu                   61\n",
      "http://gss.princeton.edu                           58\n",
      "http://outdooraction.princeton.edu/                51\n",
      "http://q-aps.princeton.edu                         51\n",
      "http://scholar.princeton.edu/dconley               50\n",
      "http://press.princeton.edu                         45\n",
      "http://goprincetontigers.com                       41\n",
      "http://scholar.princeton.edu/gwise                 37\n",
      "http://wws.princeton.edu                           37\n",
      "http://omarwasow.com/                              36\n",
      "http://uncertainsuffering.com/                     32\n",
      "http://ericplutz.com/                              30\n",
      "http://itunconference.princeton.edu/               28\n",
      "http://blogs.princeton.edu/americancomics          27\n",
      "http://movingforlife.org/                          26\n",
      "http://profvreeland.com/                           24\n",
      "http://petersinger.info/                           24\n",
      "http://princeton.edu/~hsr                          22\n",
      "http://futureofchildren.org/                       22\n",
      "http://cs.princeton.edu/~ehazan                    22\n",
      "                                                 ... \n",
      "http://function.princeton.edu                       2\n",
      "http://fsi.princeton.edu/                           2\n",
      "http://scattershot.org/                             2\n",
      "http://fragilefamilies.princeton.edu/               2\n",
      "http://fintech.princeton.edu/                       2\n",
      "http://film.princeton.edu/                          2\n",
      "http://secretsocietymusic.org/intro/#&panel1-1      2\n",
      "http://farmersmarket.princeton.edu/                 2\n",
      "http://shab.princeton.edu/                          2\n",
      "http://hindu.princeton.edu/                         2\n",
      "http://ianbphillips.com/                            2\n",
      "http://inch.princeton.edu/                          2\n",
      "http://informationsecurity.princeton.edu/           2\n",
      "http://lawrence.princeton.edu/                      2\n",
      "http://lafleurstephensdougan.com/                   2\n",
      "http://krisdavis.net/                               2\n",
      "http://kocherlab.com/                               2\n",
      "http://pubss.princeton.edu/                         2\n",
      "http://khayutin.github.io/                          2\n",
      "http://puccc.princeton.edu/                         2\n",
      "http://keeangataylor.com/                           2\n",
      "http://pugs.princeton.edu/                          2\n",
      "http://jeffwhetstone.net/                           2\n",
      "http://jefferson3volumes.princeton.edu              2\n",
      "http://jacquelinehorner.com/                        2\n",
      "http://rebeccastenncompany.com/                     2\n",
      "http://initiative.princeton.edu/                    2\n",
      "http://hackprinceton.com                            2\n",
      "http://jeffersonpapers.princeton.edu/               1\n",
      "http://brianherrera.org/                            1\n",
      "Name: thirdParty, Length: 356, dtype: int64\n"
     ]
    },
    {
     "ename": "IOError",
     "evalue": "[Errno 2] No such file or directory: 'output/third_party_counts.csv'",
     "output_type": "error",
     "traceback": [
      "\u001b[0;31m---------------------------------------------------------------------------\u001b[0m",
      "\u001b[0;31mIOError\u001b[0m                                   Traceback (most recent call last)",
      "\u001b[0;32m<ipython-input-24-7525b9a8c734>\u001b[0m in \u001b[0;36m<module>\u001b[0;34m()\u001b[0m\n\u001b[1;32m      1\u001b[0m \u001b[0;32mprint\u001b[0m \u001b[0mcookies\u001b[0m\u001b[0;34m[\u001b[0m\u001b[0mcookies\u001b[0m\u001b[0;34m[\u001b[0m\u001b[0;34m'thirdParty'\u001b[0m\u001b[0;34m]\u001b[0m\u001b[0;34m]\u001b[0m\u001b[0;34m.\u001b[0m\u001b[0mgroupby\u001b[0m\u001b[0;34m(\u001b[0m\u001b[0;34m'site'\u001b[0m\u001b[0;34m)\u001b[0m\u001b[0;34m.\u001b[0m\u001b[0mcount\u001b[0m\u001b[0;34m(\u001b[0m\u001b[0;34m)\u001b[0m\u001b[0;34m[\u001b[0m\u001b[0;34m'thirdParty'\u001b[0m\u001b[0;34m]\u001b[0m\u001b[0;34m.\u001b[0m\u001b[0msort_values\u001b[0m\u001b[0;34m(\u001b[0m\u001b[0mascending\u001b[0m\u001b[0;34m=\u001b[0m\u001b[0mFalse\u001b[0m\u001b[0;34m)\u001b[0m\u001b[0;34m\u001b[0m\u001b[0m\n\u001b[1;32m      2\u001b[0m \u001b[0;34m\u001b[0m\u001b[0m\n\u001b[0;32m----> 3\u001b[0;31m \u001b[0mcookies\u001b[0m\u001b[0;34m[\u001b[0m\u001b[0mcookies\u001b[0m\u001b[0;34m[\u001b[0m\u001b[0;34m'thirdParty'\u001b[0m\u001b[0;34m]\u001b[0m\u001b[0;34m]\u001b[0m\u001b[0;34m.\u001b[0m\u001b[0mgroupby\u001b[0m\u001b[0;34m(\u001b[0m\u001b[0;34m'site'\u001b[0m\u001b[0;34m)\u001b[0m\u001b[0;34m.\u001b[0m\u001b[0mcount\u001b[0m\u001b[0;34m(\u001b[0m\u001b[0;34m)\u001b[0m\u001b[0;34m.\u001b[0m\u001b[0mto_csv\u001b[0m\u001b[0;34m(\u001b[0m\u001b[0;34m'output/third_party_counts.csv'\u001b[0m\u001b[0;34m)\u001b[0m\u001b[0;34m\u001b[0m\u001b[0m\n\u001b[0m",
      "\u001b[0;32m/Users/emilyhedlund/anaconda2/lib/python2.7/site-packages/pandas/core/frame.pyc\u001b[0m in \u001b[0;36mto_csv\u001b[0;34m(self, path_or_buf, sep, na_rep, float_format, columns, header, index, index_label, mode, encoding, compression, quoting, quotechar, line_terminator, chunksize, tupleize_cols, date_format, doublequote, escapechar, decimal)\u001b[0m\n\u001b[1;32m   1522\u001b[0m                                      \u001b[0mdoublequote\u001b[0m\u001b[0;34m=\u001b[0m\u001b[0mdoublequote\u001b[0m\u001b[0;34m,\u001b[0m\u001b[0;34m\u001b[0m\u001b[0m\n\u001b[1;32m   1523\u001b[0m                                      escapechar=escapechar, decimal=decimal)\n\u001b[0;32m-> 1524\u001b[0;31m         \u001b[0mformatter\u001b[0m\u001b[0;34m.\u001b[0m\u001b[0msave\u001b[0m\u001b[0;34m(\u001b[0m\u001b[0;34m)\u001b[0m\u001b[0;34m\u001b[0m\u001b[0m\n\u001b[0m\u001b[1;32m   1525\u001b[0m \u001b[0;34m\u001b[0m\u001b[0m\n\u001b[1;32m   1526\u001b[0m         \u001b[0;32mif\u001b[0m \u001b[0mpath_or_buf\u001b[0m \u001b[0;32mis\u001b[0m \u001b[0mNone\u001b[0m\u001b[0;34m:\u001b[0m\u001b[0;34m\u001b[0m\u001b[0m\n",
      "\u001b[0;32m/Users/emilyhedlund/anaconda2/lib/python2.7/site-packages/pandas/io/formats/format.pyc\u001b[0m in \u001b[0;36msave\u001b[0;34m(self)\u001b[0m\n\u001b[1;32m   1635\u001b[0m             f, handles = _get_handle(self.path_or_buf, self.mode,\n\u001b[1;32m   1636\u001b[0m                                      \u001b[0mencoding\u001b[0m\u001b[0;34m=\u001b[0m\u001b[0mencoding\u001b[0m\u001b[0;34m,\u001b[0m\u001b[0;34m\u001b[0m\u001b[0m\n\u001b[0;32m-> 1637\u001b[0;31m                                      compression=self.compression)\n\u001b[0m\u001b[1;32m   1638\u001b[0m             \u001b[0mclose\u001b[0m \u001b[0;34m=\u001b[0m \u001b[0mTrue\u001b[0m\u001b[0;34m\u001b[0m\u001b[0m\n\u001b[1;32m   1639\u001b[0m \u001b[0;34m\u001b[0m\u001b[0m\n",
      "\u001b[0;32m/Users/emilyhedlund/anaconda2/lib/python2.7/site-packages/pandas/io/common.pyc\u001b[0m in \u001b[0;36m_get_handle\u001b[0;34m(path_or_buf, mode, encoding, compression, memory_map, is_text)\u001b[0m\n\u001b[1;32m    385\u001b[0m         \u001b[0;32mif\u001b[0m \u001b[0mcompat\u001b[0m\u001b[0;34m.\u001b[0m\u001b[0mPY2\u001b[0m\u001b[0;34m:\u001b[0m\u001b[0;34m\u001b[0m\u001b[0m\n\u001b[1;32m    386\u001b[0m             \u001b[0;31m# Python 2\u001b[0m\u001b[0;34m\u001b[0m\u001b[0;34m\u001b[0m\u001b[0m\n\u001b[0;32m--> 387\u001b[0;31m             \u001b[0mf\u001b[0m \u001b[0;34m=\u001b[0m \u001b[0mopen\u001b[0m\u001b[0;34m(\u001b[0m\u001b[0mpath_or_buf\u001b[0m\u001b[0;34m,\u001b[0m \u001b[0mmode\u001b[0m\u001b[0;34m)\u001b[0m\u001b[0;34m\u001b[0m\u001b[0m\n\u001b[0m\u001b[1;32m    388\u001b[0m         \u001b[0;32melif\u001b[0m \u001b[0mencoding\u001b[0m\u001b[0;34m:\u001b[0m\u001b[0;34m\u001b[0m\u001b[0m\n\u001b[1;32m    389\u001b[0m             \u001b[0;31m# Python 3 and encoding\u001b[0m\u001b[0;34m\u001b[0m\u001b[0;34m\u001b[0m\u001b[0m\n",
      "\u001b[0;31mIOError\u001b[0m: [Errno 2] No such file or directory: 'output/third_party_counts.csv'"
     ]
    }
   ],
   "source": [
    "print cookies[cookies['thirdParty']].groupby('site').count()['thirdParty'].sort_values(ascending=False)\n",
    "\n",
    "cookies[cookies['thirdParty']].groupby('site').count().to_csv('output/third_party_counts.csv')"
   ]
  },
  {
   "cell_type": "code",
   "execution_count": null,
   "metadata": {},
   "outputs": [],
   "source": [
    "# count number third-party cookies"
   ]
  },
  {
   "cell_type": "code",
   "execution_count": null,
   "metadata": {},
   "outputs": [],
   "source": [
    "print cookies.groupby('thirdParty').count()['site']"
   ]
  },
  {
   "cell_type": "code",
   "execution_count": null,
   "metadata": {},
   "outputs": [],
   "source": [
    "# count number secure third-party cookies"
   ]
  },
  {
   "cell_type": "code",
   "execution_count": null,
   "metadata": {},
   "outputs": [],
   "source": [
    "print cookies[cookies['thirdParty']].groupby('isSecure').count()['thirdParty']"
   ]
  },
  {
   "cell_type": "code",
   "execution_count": null,
   "metadata": {},
   "outputs": [],
   "source": [
    "# count number http only third-party cookies"
   ]
  },
  {
   "cell_type": "code",
   "execution_count": null,
   "metadata": {},
   "outputs": [],
   "source": [
    "print cookies[cookies['thirdParty']].groupby('isHttpOnly').count()['thirdParty']"
   ]
  }
 ],
 "metadata": {
  "kernelspec": {
   "display_name": "Python 2",
   "language": "python",
   "name": "python2"
  },
  "language_info": {
   "codemirror_mode": {
    "name": "ipython",
    "version": 2
   },
   "file_extension": ".py",
   "mimetype": "text/x-python",
   "name": "python",
   "nbconvert_exporter": "python",
   "pygments_lexer": "ipython2",
   "version": "2.7.14"
  }
 },
 "nbformat": 4,
 "nbformat_minor": 2
}
