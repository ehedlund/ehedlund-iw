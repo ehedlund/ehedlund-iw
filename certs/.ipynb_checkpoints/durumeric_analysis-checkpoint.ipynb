{
 "cells": [
  {
   "cell_type": "code",
   "execution_count": 174,
   "metadata": {},
   "outputs": [],
   "source": [
    "import pandas as pd\n",
    "from collections import OrderedDict"
   ]
  },
  {
   "cell_type": "code",
   "execution_count": 175,
   "metadata": {},
   "outputs": [],
   "source": [
    "# 5.1 Identifying Trusted Authorities"
   ]
  },
  {
   "cell_type": "code",
   "execution_count": 176,
   "metadata": {},
   "outputs": [],
   "source": [
    "def get_cert_info(filename):\n",
    "    unique_certs = set()\n",
    "    \n",
    "    with open(filename) as f:\n",
    "        for line in f:\n",
    "            orgs = map(str.strip, line.split('|'))\n",
    "\n",
    "            # start at 1 to skip ultimate subject\n",
    "            for i in xrange(1, len(orgs)-1):\n",
    "                intermediate = orgs[i]\n",
    "                issuer = orgs[i+1]\n",
    "                \n",
    "                unique_certs.add(intermediate + \" | \" + issuer)\n",
    "                \n",
    "    print(str(len(unique_certs)) + \" certs\")\n",
    "    print\n",
    "    \n",
    "    unique_orgs = set()\n",
    "    unique_countries = set()\n",
    "    \n",
    "    for cert in unique_certs:\n",
    "        issuer_info = map(str.strip, cert.split('|'))[1].split(',')\n",
    "\n",
    "        unique_orgs.add(issuer_info[-1])\n",
    "        \n",
    "        # some orgs don't specify country\n",
    "        if (len(issuer_info[0]) == 2):\n",
    "            unique_countries.add(issuer_info[0])\n",
    "    \n",
    "    print(str(len(unique_orgs)) + \" orgs\")\n",
    "    for org in unique_orgs:\n",
    "        print org\n",
    "    print\n",
    "    \n",
    "    print(str(len(unique_countries)) + \" countries\")\n",
    "    for country in unique_countries:\n",
    "        print country"
   ]
  },
  {
   "cell_type": "code",
   "execution_count": 177,
   "metadata": {},
   "outputs": [
    {
     "name": "stdout",
     "output_type": "stream",
     "text": [
      "5 certs\n",
      "\n",
      "4 orgs\n",
      " DigiCert Global Root CA\n",
      " USERTrust RSA Certification Authority\n",
      " AddTrust External CA Root\n",
      " DST Root CA X3\n",
      "\n",
      "2 countries\n",
      "SE\n",
      "US\n"
     ]
    }
   ],
   "source": [
    "get_cert_info('output/first_party_certs.txt')"
   ]
  },
  {
   "cell_type": "code",
   "execution_count": 178,
   "metadata": {},
   "outputs": [
    {
     "name": "stdout",
     "output_type": "stream",
     "text": [
      "35 certs\n",
      "\n",
      "22 orgs\n",
      " Baltimore CyberTrust Root\n",
      " DigiCert Global Root G2\n",
      " Go Daddy Root Certificate Authority - G2\n",
      " Starfield Class 2 Certification Au\n",
      " GlobalSign Domain Validation CA - SHA256 - G2\n",
      " Amazon Root CA 1\n",
      " GlobalSign Organization Validation CA - SHA256\n",
      " DigiCert High Assurance EV Root CA\n",
      " Starfield Root Certificate Authority - G2\n",
      " COMODO RSA Certification Authority\n",
      " SecureTrust CA\n",
      " COMODO ECC Certification Authority\n",
      " VeriSign Class 3 Public Primary Certification\n",
      " Go Daddy Secure Certificate Authority - G2\n",
      " Go Daddy Class 2 Certification Aut\n",
      " DST Root CA X3\n",
      " GlobalSign Root CA\n",
      " GlobalSign\n",
      " DigiCert Global Root CA\n",
      " GlobalSign CloudSSL CA - SHA256 - G3\n",
      " AddTrust External CA Root\n",
      " Starfield Services Root Certificate Authority\n",
      "\n",
      "5 countries\n",
      "BE\n",
      "IE\n",
      "SE\n",
      "US\n",
      "GB\n"
     ]
    }
   ],
   "source": [
    "get_cert_info('output/third_party_certs.txt')"
   ]
  },
  {
   "cell_type": "code",
   "execution_count": 179,
   "metadata": {},
   "outputs": [],
   "source": [
    "# 5.2 Sources of Intermediates"
   ]
  },
  {
   "cell_type": "code",
   "execution_count": 180,
   "metadata": {},
   "outputs": [],
   "source": [
    "def check_result_dict(results):\n",
    "    for key, value_set in results.iteritems():\n",
    "        print(key + \": \" + str(len(value_set)))"
   ]
  },
  {
   "cell_type": "code",
   "execution_count": 181,
   "metadata": {},
   "outputs": [],
   "source": [
    "def num_intermediates_per_root(filename):\n",
    "    authorized_pairs = dict()\n",
    "    root_ca = set()\n",
    "\n",
    "    with open(filename) as f:\n",
    "        for line in f:\n",
    "            orgs = map(str.strip, line.split('|'))\n",
    "            root_ca.add(orgs[-1])\n",
    "\n",
    "            # start at 1 to skip ultimate subject\n",
    "            for i in xrange(1, len(orgs)-1):\n",
    "                intermediate = orgs[i]\n",
    "                issuer = orgs[i+1]\n",
    "\n",
    "                # add intermediate to issuer authorized set\n",
    "                if (issuer in authorized_pairs):\n",
    "                    auth = authorized_pairs[issuer]\n",
    "                else:\n",
    "                    auth = set()\n",
    "\n",
    "                auth.add(intermediate)\n",
    "                authorized_pairs[issuer] = auth\n",
    "                \n",
    "    # aggregate total number approved by root\n",
    "    aggregated = dict()\n",
    "    for issuer, intermediates in authorized_pairs.iteritems():\n",
    "        if (issuer in root_ca):\n",
    "            # direct intermediates\n",
    "            aggregated[issuer] = authorized_pairs[issuer]\n",
    "\n",
    "            # indirect intermediates\n",
    "            for inter in intermediates:\n",
    "                if (inter in authorized_pairs):\n",
    "\n",
    "                    auth = aggregated[issuer] | authorized_pairs[inter]\n",
    "                    aggregated[issuer] = auth\n",
    "\n",
    "    check_result_dict(aggregated)"
   ]
  },
  {
   "cell_type": "code",
   "execution_count": 182,
   "metadata": {},
   "outputs": [
    {
     "name": "stdout",
     "output_type": "stream",
     "text": [
      "US, DigiCert Inc, www.digicert.com, DigiCert Global Root CA: 2\n",
      "SE, AddTrust AB, AddTrust External TTP Network, AddTrust External CA Root: 2\n",
      "Digital Signature Trust Co., DST Root CA X3: 1\n"
     ]
    }
   ],
   "source": [
    "num_intermediates_per_root('output/first_party_certs.txt')"
   ]
  },
  {
   "cell_type": "code",
   "execution_count": 183,
   "metadata": {},
   "outputs": [
    {
     "name": "stdout",
     "output_type": "stream",
     "text": [
      "BE, GlobalSign nv-sa, GlobalSign CloudSSL CA - SHA256 - G3: 5\n",
      "US, DigiCert Inc, www.digicert.com, DigiCert Global Root CA: 5\n",
      "SE, AddTrust AB, AddTrust External TTP Network, AddTrust External CA Root: 5\n",
      "IE, Baltimore, CyberTrust, Baltimore CyberTrust Root: 2\n",
      "US, Starfield Technologies, Inc., Starfield Class 2 Certification Au: 2\n",
      "BE, GlobalSign nv-sa, GlobalSign Organization Validation CA - SHA256: 5\n",
      "Digital Signature Trust Co., DST Root CA X3: 1\n",
      "GlobalSign Root CA - R2, GlobalSign, GlobalSign: 1\n",
      "BE, GlobalSign nv-sa, Root CA, GlobalSign Root CA: 6\n",
      "US, Arizona, Scottsdale, GoDaddy.com, Inc., http://certs.godaddy.com/repositor, Go Daddy Secure Certificate Authority - G2: 2\n",
      "US, The Go Daddy Group, Inc., Go Daddy Class 2 Certification Aut: 2\n",
      "US, SecureTrust Corporation, SecureTrust CA: 1\n",
      "BE, GlobalSign nv-sa, GlobalSign Domain Validation CA - SHA256 - G2: 6\n",
      "US, DigiCert Inc, www.digicert.com, DigiCert High Assurance EV Root CA: 2\n",
      "US, Arizona, Scottsdale, Starfield Technologies, Inc., Starfield Root Certificate Authority - G2: 1\n",
      "US, VeriSign, Inc., VeriSign Trust Network, (c) 2006 VeriSign, Inc. - For auth, VeriSign Class 3 Public Primary Certification: 2\n"
     ]
    }
   ],
   "source": [
    "num_intermediates_per_root('output/third_party_certs.txt')"
   ]
  },
  {
   "cell_type": "code",
   "execution_count": 184,
   "metadata": {},
   "outputs": [],
   "source": [
    "# 5.3 Distribution of Trust"
   ]
  },
  {
   "cell_type": "code",
   "execution_count": 185,
   "metadata": {},
   "outputs": [],
   "source": [
    "def get_cert_counts(filename):\n",
    "    cert_counts = dict()\n",
    "    \n",
    "    with open(filename) as f:\n",
    "        for line in f:\n",
    "            orgs = map(str.strip, line.split('|'))\n",
    "\n",
    "            # start at 1 to skip ultimate subject\n",
    "            for i in xrange(1, len(orgs)-1):\n",
    "                intermediate = orgs[i]\n",
    "                issuer = orgs[i+1]\n",
    "                cert = intermediate + \" | \" + issuer\n",
    "                \n",
    "                if (cert in cert_counts):\n",
    "                    freq = cert_counts[cert] + 1\n",
    "                else:\n",
    "                    freq = 1\n",
    "                \n",
    "                cert_counts[cert] = freq\n",
    "    \n",
    "    desc_cert_counts = OrderedDict(sorted(cert_counts.items(), key=lambda t: t[1], reverse=True))\n",
    "    \n",
    "    for cert, count in desc_cert_counts.iteritems():\n",
    "        print(cert + \": \" + str(count))"
   ]
  },
  {
   "cell_type": "code",
   "execution_count": 186,
   "metadata": {},
   "outputs": [
    {
     "name": "stdout",
     "output_type": "stream",
     "text": [
      "US, New Jersey, Jersey City, The USERTRUST Network, USERTrust RSA Certification Authority | SE, AddTrust AB, AddTrust External TTP Network, AddTrust External CA Root: 257\n",
      "US, MI, Ann Arbor, Internet2, InCommon, InCommon RSA Server CA | US, New Jersey, Jersey City, The USERTRUST Network, USERTrust RSA Certification Authority: 257\n",
      "US, Let's Encrypt, Let's Encrypt Authority X3 | Digital Signature Trust Co., DST Root CA X3: 30\n",
      "US, DigiCert Inc, www.digicert.com, GeoTrust RSA CA 2018 | US, DigiCert Inc, www.digicert.com, DigiCert Global Root CA: 1\n",
      "US, DigiCert Inc, www.digicert.com, RapidSSL RSA CA 2018 | US, DigiCert Inc, www.digicert.com, DigiCert Global Root CA: 1\n"
     ]
    }
   ],
   "source": [
    "get_cert_counts('output/first_party_certs.txt')"
   ]
  },
  {
   "cell_type": "code",
   "execution_count": 187,
   "metadata": {},
   "outputs": [
    {
     "name": "stdout",
     "output_type": "stream",
     "text": [
      "US, Google Trust Services, Google Internet Authority G3 | GlobalSign Root CA - R2, GlobalSign, GlobalSign: 578\n",
      "US, DigiCert Inc, www.digicert.com, DigiCert SHA2 High Assurance Server CA | US, DigiCert Inc, www.digicert.com, DigiCert High Assurance EV Root CA: 376\n",
      "US, DigiCert Inc, DigiCert SHA2 Secure Server CA | US, DigiCert Inc, www.digicert.com, DigiCert Global Root CA: 291\n",
      "US, Let's Encrypt, Let's Encrypt Authority X3 | Digital Signature Trust Co., DST Root CA X3: 287\n",
      "US, Arizona, Scottsdale, GoDaddy.com, Inc., http://certs.godaddy.com/repositor, Go Daddy Secure Certificate Authority - G2 | US, Arizona, Scottsdale, GoDaddy.com, Inc., Go Daddy Root Certificate Authority - G2: 157\n",
      "US, Arizona, Scottsdale, GoDaddy.com, Inc., Go Daddy Root Certificate Authority - G2 | US, The Go Daddy Group, Inc., Go Daddy Class 2 Certification Aut: 157\n",
      "BE, GlobalSign nv-sa, GlobalSign CloudSSL CA - SHA256 - G3 | BE, GlobalSign nv-sa, Root CA, GlobalSign Root CA: 156\n",
      "BE, GlobalSign nv-sa, Root CA, GlobalSign Root CA | BE, GlobalSign nv-sa, GlobalSign CloudSSL CA - SHA256 - G3: 137\n",
      "GB, Greater Manchester, Salford, COMODO CA Limited, COMODO RSA Certification Authority | SE, AddTrust AB, AddTrust External TTP Network, AddTrust External CA Root: 65\n",
      "US, DigiCert Inc, DigiCert ECC Secure Server CA | US, DigiCert Inc, www.digicert.com, DigiCert Global Root CA: 63\n",
      "GB, Greater Manchester, Salford, COMODO CA Limited, COMODO ECC Certification Authority | SE, AddTrust AB, AddTrust External TTP Network, AddTrust External CA Root: 57\n",
      "GB, Greater Manchester, Salford, COMODO CA Limited, COMODO ECC Domain Validation Secure Server CA | GB, Greater Manchester, Salford, COMODO CA Limited, COMODO ECC Certification Authority: 57\n",
      "US, The Go Daddy Group, Inc., Go Daddy Class 2 Certification Aut | US, Arizona, Scottsdale, GoDaddy.com, Inc., http://certs.godaddy.com/repositor, Go Daddy Secure Certificate Authority - G2: 53\n",
      "GB, Greater Manchester, Salford, COMODO CA Limited, COMODO RSA Organization Validation Secure Serv | GB, Greater Manchester, Salford, COMODO CA Limited, COMODO RSA Certification Authority: 34\n",
      "US, Amazon, Server CA 1B, Amazon | US, Amazon, Amazon Root CA 1: 32\n",
      "US, Amazon, Amazon Root CA 1 | US, Arizona, Scottsdale, Starfield Technologies, Inc., Starfield Services Root Certificate Authority: 32\n",
      "US, Arizona, Scottsdale, Starfield Technologies, Inc., Starfield Services Root Certificate Authority | US, Starfield Technologies, Inc., Starfield Class 2 Certification Au: 32\n",
      "GB, Greater Manchester, Salford, COMODO CA Limited, COMODO RSA Domain Validation Secure Server CA | GB, Greater Manchester, Salford, COMODO CA Limited, COMODO RSA Certification Authority: 31\n",
      "US, DigiCert Inc, www.digicert.com, DigiCert Global Root G2 | US, VeriSign, Inc., VeriSign Trust Network, (c) 2006 VeriSign, Inc. - For auth, VeriSign Class 3 Public Primary Certification: 28\n",
      "US, DigiCert Inc, DigiCert Global CA G2 | US, DigiCert Inc, www.digicert.com, DigiCert Global Root G2: 28\n",
      "US, DigiCert Inc, www.digicert.com, GeoTrust RSA CA 2018 | US, DigiCert Inc, www.digicert.com, DigiCert Global Root CA: 28\n",
      "US, DigiCert Inc, www.digicert.com, DigiCert Baltimore CA-2 G2 | IE, Baltimore, CyberTrust, Baltimore CyberTrust Root: 24\n",
      "US, DigiCert Inc, www.digicert.com, RapidSSL RSA CA 2018 | US, DigiCert Inc, www.digicert.com, DigiCert Global Root CA: 19\n",
      "BE, GlobalSign nv-sa, GlobalSign Domain Validation CA - SHA256 - G2 | GlobalSign Root CA - R3, GlobalSign, GlobalSign: 11\n",
      "GlobalSign Root CA - R3, GlobalSign, GlobalSign | BE, GlobalSign nv-sa, GlobalSign Domain Validation CA - SHA256 - G2: 11\n",
      "BE, GlobalSign nv-sa, GlobalSign Organization Validation CA - SHA256 | BE, GlobalSign nv-sa, Root CA, GlobalSign Root CA: 9\n",
      "BE, GlobalSign nv-sa, Root CA, GlobalSign Root CA | BE, GlobalSign nv-sa, GlobalSign Organization Validation CA - SHA256: 7\n",
      "US, Arizona, Scottsdale, Starfield Technologies, Inc., http://certs.starfieldtech.com/rep, Starfield Secure Certificate Authority - G2 | US, Arizona, Scottsdale, Starfield Technologies, Inc., Starfield Root Certificate Authority - G2: 6\n",
      "BE, GlobalSign nv-sa, GlobalSign Domain Validation CA - SHA256 - G2 | BE, GlobalSign nv-sa, Root CA, GlobalSign Root CA: 6\n",
      "US, Illinois, Chicago, Trustwave Holdings, Inc., Trustwave Organization Validation SHA256 CA, L, ca@trustwave.com | US, SecureTrust Corporation, SecureTrust CA: 6\n",
      "BE, GlobalSign nv-sa, Root CA, GlobalSign Root CA | BE, GlobalSign nv-sa, GlobalSign Domain Validation CA - SHA256 - G2: 6\n",
      "BE, GlobalSign nv-sa, AlphaSSL CA - SHA256 - G2 | BE, GlobalSign nv-sa, Root CA, GlobalSign Root CA: 5\n",
      "US, DigiCert Inc, www.digicert.com, DigiCert SHA2 Extended Validation Server CA | US, DigiCert Inc, www.digicert.com, DigiCert High Assurance EV Root CA: 4\n",
      "US, CA, San Francisco, CloudFlare, Inc., CloudFlare Inc ECC CA-2 | IE, Baltimore, CyberTrust, Baltimore CyberTrust Root: 3\n",
      "US, DigiCert Inc, www.digicert.com, Thawte RSA CA 2018 | US, DigiCert Inc, www.digicert.com, DigiCert Global Root CA: 2\n"
     ]
    }
   ],
   "source": [
    "get_cert_counts('output/third_party_certs.txt')"
   ]
  },
  {
   "cell_type": "code",
   "execution_count": null,
   "metadata": {},
   "outputs": [],
   "source": []
  }
 ],
 "metadata": {
  "kernelspec": {
   "display_name": "Python 2",
   "language": "python",
   "name": "python2"
  },
  "language_info": {
   "codemirror_mode": {
    "name": "ipython",
    "version": 2
   },
   "file_extension": ".py",
   "mimetype": "text/x-python",
   "name": "python",
   "nbconvert_exporter": "python",
   "pygments_lexer": "ipython2",
   "version": "2.7.14"
  }
 },
 "nbformat": 4,
 "nbformat_minor": 2
}
