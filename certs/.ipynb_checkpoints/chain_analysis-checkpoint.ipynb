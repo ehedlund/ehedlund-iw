{
 "cells": [
  {
   "cell_type": "code",
   "execution_count": 91,
   "metadata": {},
   "outputs": [],
   "source": [
    "import pandas as pd"
   ]
  },
  {
   "cell_type": "code",
   "execution_count": 106,
   "metadata": {},
   "outputs": [
    {
     "name": "stdout",
     "output_type": "stream",
     "text": [
      "37\n",
      "set([\"filmstudies.princeton.edu | US, Let's Encrypt, Let's Encrypt Authority X3\", 'music.princeton.edu | US, DigiCert Inc, www.digicert.com, RapidSSL RSA CA 2018', \"joescanlan.biz | US, Let's Encrypt, Let's Encrypt Authority X3\", \"krisdavis.net | US, Let's Encrypt, Let's Encrypt Authority X3\", \"arts.princeton.edu | US, Let's Encrypt, Let's Encrypt Authority X3\", 'US, New Jersey, Jersey City, The USERTRUST Network, USERTrust RSA Certification Authority | SE, AddTrust AB, AddTrust External TTP Network, AddTrust External CA Root', \"gemmapeacocke.com | US, Let's Encrypt, Let's Encrypt Authority X3\", \"princetonwildcats.com | US, Let's Encrypt, Let's Encrypt Authority X3\", \"migdaliacruz.com | US, Let's Encrypt, Let's Encrypt Authority X3\", \"disiacdancecompany.com | US, Let's Encrypt, Let's Encrypt Authority X3\", \"sopercussion.com | US, Let's Encrypt, Let's Encrypt Authority X3\", \"www.davidavrombell.com | US, Let's Encrypt, Let's Encrypt Authority X3\", 'US, 08544, New Jersey, Princeton, 1 NASSAU HALL, The Trustees of Princeton University, OIT, drupal.princeton.edu | US, MI, Ann Arbor, Internet2, InCommon, InCommon RSA Server CA', \"US, Let's Encrypt, Let's Encrypt Authority X3 | Digital Signature Trust Co., DST Root CA X3\", \"princetoneatingclubs.org | US, Let's Encrypt, Let's Encrypt Authority X3\", \"bacdancecompany.com | US, Let's Encrypt, Let's Encrypt Authority X3\", \"expressionsdanceco.com | US, Let's Encrypt, Let's Encrypt Authority X3\", \"pustore.com | US, Let's Encrypt, Let's Encrypt Authority X3\", \"cameronwu.com | US, Let's Encrypt, Let's Encrypt Authority X3\", \"hassonlab.com | US, Let's Encrypt, Let's Encrypt Authority X3\", \"stephanietubiolo.com | US, Let's Encrypt, Let's Encrypt Authority X3\", \"mikelevinelab.com | US, Let's Encrypt, Let's Encrypt Authority X3\", \"marshallbrownprojects.com | US, Let's Encrypt, Let's Encrypt Authority X3\", 'US, 08540, New Jersey, Princeton, 701 Carnegie Center, The Trustees of Princeton University, OIT, humanities.princeton.edu | US, MI, Ann Arbor, Internet2, InCommon, InCommon RSA Server CA', \"njsymphony.org | US, Let's Encrypt, Let's Encrypt Authority X3\", 'US, DigiCert Inc, www.digicert.com, RapidSSL RSA CA 2018 | US, DigiCert Inc, www.digicert.com, DigiCert Global Root CA', \"suzanneagins.com | US, Let's Encrypt, Let's Encrypt Authority X3\", 'US, DigiCert Inc, www.digicert.com, GeoTrust RSA CA 2018 | US, DigiCert Inc, www.digicert.com, DigiCert Global Root CA', 'US, MI, Ann Arbor, Internet2, InCommon, InCommon RSA Server CA | US, New Jersey, Jersey City, The USERTRUST Network, USERTrust RSA Certification Authority', 'US, New Jersey, Princeton, Princeton Plasma Physics Laboratory, ITD, *.pppl.gov | US, DigiCert Inc, www.digicert.com, GeoTrust RSA CA 2018', \"nordenson.com | US, Let's Encrypt, Let's Encrypt Authority X3\", \"wendybelcher.com | US, Let's Encrypt, Let's Encrypt Authority X3\", \"freddiehendrix.com | US, Let's Encrypt, Let's Encrypt Authority X3\", \"monicaponcedeleon.com | US, Let's Encrypt, Let's Encrypt Authority X3\", \"hysterlab.com | US, Let's Encrypt, Let's Encrypt Authority X3\", \"melissamlee.com | US, Let's Encrypt, Let's Encrypt Authority X3\", 'US, 08540, New Jersey, Princeton, 701 Carnegie Center, The Trustees of Princeton University, OIT, admission.princeton.edu | US, MI, Ann Arbor, Internet2, InCommon, InCommon RSA Server CA'])\n"
     ]
    }
   ],
   "source": [
    "# get unique certificates from file\n",
    "unique_certs = set()\n",
    "\n",
    "# with open('output/third_party_certs.txt') as f:\n",
    "with open('output/first_party_certs.txt') as f:\n",
    "    for line in f:\n",
    "        unique_certs.add(line.replace('\\\"',\"\").rstrip())\n",
    "        \n",
    "print len(unique_certs)"
   ]
  },
  {
   "cell_type": "code",
   "execution_count": 93,
   "metadata": {},
   "outputs": [],
   "source": [
    "# process certs\n",
    "num_intermediates = list()\n",
    "imm_issuer_names = list()\n",
    "top_issuer_names = list()\n",
    "\n",
    "for cert in unique_certs:    \n",
    "        orgs = cert.split('|')\n",
    "        \n",
    "        imm_issuer_names.append(orgs[1].split(',')[-1]) # get first issuer, then get name\n",
    "        top_issuer_names.append(orgs[-1].split(',')[-1]) # get last issuer, then get name\n",
    "        num_intermediates.append(len(orgs)-2) # every chain has a subject and root CA"
   ]
  },
  {
   "cell_type": "code",
   "execution_count": 94,
   "metadata": {},
   "outputs": [
    {
     "name": "stdout",
     "output_type": "stream",
     "text": [
      " Let's Encrypt Authority X3     27\n",
      " InCommon RSA Server CA          3\n",
      " RapidSSL RSA CA 2018            1\n",
      " GeoTrust RSA CA 2018            1\n",
      "Name: issuer, dtype: int64\n"
     ]
    }
   ],
   "source": [
    "# immediate issuers\n",
    "imm_issuers = pd.DataFrame({'issuer': imm_issuer_names})\n",
    "print imm_issuers['issuer'].value_counts()"
   ]
  },
  {
   "cell_type": "code",
   "execution_count": 95,
   "metadata": {},
   "outputs": [
    {
     "name": "stdout",
     "output_type": "stream",
     "text": [
      " DST Root CA X3               27\n",
      " AddTrust External CA Root     3\n",
      " DigiCert Global Root CA       2\n",
      "Name: issuer, dtype: int64\n"
     ]
    }
   ],
   "source": [
    "# top issuers\n",
    "top_issuers = pd.DataFrame({'issuer': top_issuer_names})\n",
    "print top_issuers['issuer'].value_counts()"
   ]
  },
  {
   "cell_type": "code",
   "execution_count": 96,
   "metadata": {},
   "outputs": [
    {
     "name": "stdout",
     "output_type": "stream",
     "text": [
      "1    29\n",
      "2     3\n",
      "Name: intermediates, dtype: int64\n"
     ]
    }
   ],
   "source": [
    "# number of intermediates\n",
    "num_int = pd.DataFrame({'intermediates': num_intermediates})\n",
    "print num_int['intermediates'].value_counts()"
   ]
  }
 ],
 "metadata": {
  "kernelspec": {
   "display_name": "Python 2",
   "language": "python",
   "name": "python2"
  },
  "language_info": {
   "codemirror_mode": {
    "name": "ipython",
    "version": 2
   },
   "file_extension": ".py",
   "mimetype": "text/x-python",
   "name": "python",
   "nbconvert_exporter": "python",
   "pygments_lexer": "ipython2",
   "version": "2.7.14"
  }
 },
 "nbformat": 4,
 "nbformat_minor": 2
}
