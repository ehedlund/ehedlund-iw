{
 "cells": [
  {
   "cell_type": "code",
   "execution_count": 1,
   "metadata": {},
   "outputs": [],
   "source": [
    "import pandas as pd"
   ]
  },
  {
   "cell_type": "code",
   "execution_count": 2,
   "metadata": {},
   "outputs": [
    {
     "name": "stdout",
     "output_type": "stream",
     "text": [
      "   https  overall\n",
      "0      1     1248\n",
      "1      0      349\n"
     ]
    }
   ],
   "source": [
    "# overall https adoption\n",
    "https_sites = pd.read_csv('output/https_sites.txt', sep=\" \", header=None, names=[\"site\"])\n",
    "https_sites['https'] = 1\n",
    "\n",
    "non_https_sites = pd.read_csv('output/non_https_sites.txt', sep=\" \", header=None, names=[\"site\"])\n",
    "non_https_sites['https'] = 0\n",
    "\n",
    "https_adoption = pd.concat([https_sites, non_https_sites])\n",
    "overall_counts = https_adoption['https'].value_counts().rename_axis('https').to_frame('overall').reset_index()\n",
    "print overall_counts"
   ]
  },
  {
   "cell_type": "code",
   "execution_count": 3,
   "metadata": {},
   "outputs": [
    {
     "name": "stdout",
     "output_type": "stream",
     "text": [
      "   https  princeton\n",
      "0      1       1162\n",
      "1      0        191\n"
     ]
    }
   ],
   "source": [
    "# https adoption on princeton.edu\n",
    "princeton_https = https_adoption[https_adoption['site'].str.contains(\"princeton.edu\")]\n",
    "princeton_counts = princeton_https['https'].value_counts().rename_axis('https').to_frame('princeton').reset_index()\n",
    "print princeton_counts"
   ]
  },
  {
   "cell_type": "code",
   "execution_count": 4,
   "metadata": {},
   "outputs": [
    {
     "name": "stdout",
     "output_type": "stream",
     "text": [
      "   https  external\n",
      "0      0       158\n",
      "1      1        86\n"
     ]
    }
   ],
   "source": [
    "# https adoption on external domains\n",
    "non_princeton_https = https_adoption[~https_adoption['site'].isin(princeton_https['site'])].dropna()\n",
    "non_princeton_counts = non_princeton_https['https'].value_counts().rename_axis('https').to_frame('external').reset_index()\n",
    "print non_princeton_counts"
   ]
  }
 ],
 "metadata": {
  "kernelspec": {
   "display_name": "Python 2",
   "language": "python",
   "name": "python2"
  },
  "language_info": {
   "codemirror_mode": {
    "name": "ipython",
    "version": 2
   },
   "file_extension": ".py",
   "mimetype": "text/x-python",
   "name": "python",
   "nbconvert_exporter": "python",
   "pygments_lexer": "ipython2",
   "version": "2.7.14"
  }
 },
 "nbformat": 4,
 "nbformat_minor": 2
}
