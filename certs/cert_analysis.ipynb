{
 "cells": [
  {
   "cell_type": "code",
   "execution_count": 16,
   "metadata": {},
   "outputs": [],
   "source": [
    "import pandas as pd"
   ]
  },
  {
   "cell_type": "code",
   "execution_count": 18,
   "metadata": {},
   "outputs": [
    {
     "name": "stdout",
     "output_type": "stream",
     "text": [
      "1    1461\n",
      "2     956\n",
      "3      85\n",
      "0       4\n",
      "Name: intermediates, dtype: int64\n"
     ]
    }
   ],
   "source": [
    "num_intermediates = list()\n",
    "\n",
    "with open('output/certs_output.txt') as f:\n",
    "    for line in f:\n",
    "        orgs = line.split('|')\n",
    "        # every chain has a subject and root CA\n",
    "        num_intermediates.append(len(orgs)-2)\n",
    "        \n",
    "df = pd.DataFrame({'intermediates': num_intermediates})\n",
    "df = df['intermediates'].value_counts()\n",
    "print (df)"
   ]
  },
  {
   "cell_type": "code",
   "execution_count": null,
   "metadata": {},
   "outputs": [],
   "source": []
  },
  {
   "cell_type": "code",
   "execution_count": null,
   "metadata": {},
   "outputs": [],
   "source": []
  }
 ],
 "metadata": {
  "kernelspec": {
   "display_name": "Python 2",
   "language": "python",
   "name": "python2"
  },
  "language_info": {
   "codemirror_mode": {
    "name": "ipython",
    "version": 2
   },
   "file_extension": ".py",
   "mimetype": "text/x-python",
   "name": "python",
   "nbconvert_exporter": "python",
   "pygments_lexer": "ipython2",
   "version": "2.7.14"
  }
 },
 "nbformat": 4,
 "nbformat_minor": 2
}
