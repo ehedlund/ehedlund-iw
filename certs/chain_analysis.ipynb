{
 "cells": [
  {
   "cell_type": "code",
   "execution_count": 1,
   "metadata": {},
   "outputs": [],
   "source": [
    "import pandas as pd"
   ]
  },
  {
   "cell_type": "code",
   "execution_count": 2,
   "metadata": {},
   "outputs": [],
   "source": [
    "def analyze_chains(filename):\n",
    "    # get chains from file\n",
    "    chains = set()\n",
    "\n",
    "    with open(filename) as f:\n",
    "    # with open('output/first_party_certs.txt') as f:\n",
    "        for line in f:\n",
    "            chains.add(line.replace('\\\"',\"\").rstrip())\n",
    "\n",
    "    print(\"unique chains: \" + str(len(chains)))\n",
    "    print\n",
    "\n",
    "    # process certs\n",
    "    num_intermediates = list()\n",
    "    imm_issuer_names = list()\n",
    "    top_issuer_names = list()\n",
    "\n",
    "    for chain in chains:    \n",
    "            orgs = map(str.strip, chain.split('|'))\n",
    "\n",
    "            imm_issuer_names.append(orgs[1].split(',')[-1]) # get first issuer, then get name\n",
    "            top_issuer_names.append(orgs[-1].split(',')[-1]) # get last issuer, then get name\n",
    "            num_intermediates.append(len(orgs)-2) # exclude subject and root CA\n",
    "            \n",
    "    # immediate issuers\n",
    "    imm_issuers = pd.DataFrame({'issuer': imm_issuer_names})\n",
    "    print \"immediate issuers\"\n",
    "    print imm_issuers['issuer'].value_counts()\n",
    "    print\n",
    "    \n",
    "    # top issuers\n",
    "    top_issuers = pd.DataFrame({'issuer': top_issuer_names})\n",
    "    print \"root issuers\"\n",
    "    print top_issuers['issuer'].value_counts()\n",
    "    print\n",
    "    \n",
    "    # number of intermediates\n",
    "    num_int = pd.DataFrame({'intermediates': num_intermediates})\n",
    "    print \"number intermediates\"\n",
    "    print num_int['intermediates'].value_counts()"
   ]
  },
  {
   "cell_type": "code",
   "execution_count": 3,
   "metadata": {},
   "outputs": [
    {
     "name": "stdout",
     "output_type": "stream",
     "text": [
      "unique chains: 32\n",
      "\n",
      "immediate issuers\n",
      " Let's Encrypt Authority X3    27\n",
      " InCommon RSA Server CA         3\n",
      " RapidSSL RSA CA 2018           1\n",
      " GeoTrust RSA CA 2018           1\n",
      "Name: issuer, dtype: int64\n",
      "\n",
      "root issuers\n",
      " DST Root CA X3               27\n",
      " AddTrust External CA Root     3\n",
      " DigiCert Global Root CA       2\n",
      "Name: issuer, dtype: int64\n",
      "\n",
      "number intermediates\n",
      "1    29\n",
      "2     3\n",
      "Name: intermediates, dtype: int64\n"
     ]
    }
   ],
   "source": [
    "analyze_chains('output/first_party_certs.txt')"
   ]
  },
  {
   "cell_type": "code",
   "execution_count": 4,
   "metadata": {},
   "outputs": [
    {
     "name": "stdout",
     "output_type": "stream",
     "text": [
      "unique chains: 283\n",
      "\n",
      "immediate issuers\n",
      " DigiCert SHA2 Secure Server CA                    53\n",
      " Let's Encrypt Authority X3                        38\n",
      " DigiCert SHA2 High Assurance Server CA            26\n",
      " GlobalSign CloudSSL CA - SHA256 - G3              25\n",
      " Go Daddy Secure Certificate Authority - G2        22\n",
      " Google Internet Authority G3                      18\n",
      " COMODO ECC Domain Validation Secure Server CA     18\n",
      " Amazon                                            17\n",
      " COMODO RSA Domain Validation Secure Server CA     14\n",
      " DigiCert ECC Secure Server CA                     12\n",
      " RapidSSL RSA CA 2018                               8\n",
      " GeoTrust RSA CA 2018                               7\n",
      " CloudFlare Inc ECC CA-2                            3\n",
      " AlphaSSL CA - SHA256 - G2                          3\n",
      " Starfield Secure Certificate Authority - G2        3\n",
      " COMODO RSA Organization Validation Secure Serv     3\n",
      " DigiCert SHA2 Extended Validation Server CA        3\n",
      " DigiCert Baltimore CA-2 G2                         2\n",
      " Thawte RSA CA 2018                                 2\n",
      " GlobalSign Domain Validation CA - SHA256 - G2      2\n",
      " GlobalSign Organization Validation CA - SHA256     2\n",
      " DigiCert Global CA G2                              1\n",
      " ca@trustwave.com                                   1\n",
      "Name: issuer, dtype: int64\n",
      "\n",
      "root issuers\n",
      " DigiCert Global Root CA                           82\n",
      " DST Root CA X3                                    38\n",
      " AddTrust External CA Root                         35\n",
      " DigiCert High Assurance EV Root CA                29\n",
      " GlobalSign                                        18\n",
      " Starfield Class 2 Certification Au                17\n",
      " GlobalSign CloudSSL CA - SHA256 - G3              17\n",
      " Go Daddy Class 2 Certification Aut                17\n",
      " GlobalSign Root CA                                12\n",
      " Go Daddy Secure Certificate Authority - G2         5\n",
      " Baltimore CyberTrust Root                          5\n",
      " Starfield Root Certificate Authority - G2          3\n",
      " GlobalSign Domain Validation CA - SHA256 - G2      2\n",
      " GlobalSign Organization Validation CA - SHA256     1\n",
      " VeriSign Class 3 Public Primary Certification      1\n",
      " SecureTrust CA                                     1\n",
      "Name: issuer, dtype: int64\n",
      "\n",
      "number intermediates\n",
      "1    188\n",
      "2     73\n",
      "3     21\n",
      "0      1\n",
      "Name: intermediates, dtype: int64\n"
     ]
    }
   ],
   "source": [
    "analyze_chains('output/third_party_certs.txt')"
   ]
  }
 ],
 "metadata": {
  "kernelspec": {
   "display_name": "Python 2",
   "language": "python",
   "name": "python2"
  },
  "language_info": {
   "codemirror_mode": {
    "name": "ipython",
    "version": 2
   },
   "file_extension": ".py",
   "mimetype": "text/x-python",
   "name": "python",
   "nbconvert_exporter": "python",
   "pygments_lexer": "ipython2",
   "version": "2.7.15rc1"
  }
 },
 "nbformat": 4,
 "nbformat_minor": 2
}
